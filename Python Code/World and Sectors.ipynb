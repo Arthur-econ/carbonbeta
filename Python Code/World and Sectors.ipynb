{
 "cells": [
  {
   "cell_type": "code",
   "execution_count": 1,
   "id": "b8e700dc",
   "metadata": {},
   "outputs": [],
   "source": [
    "import pickle\n",
    "import pandas as pd\n",
    "import numpy as np\n",
    "from datetime import datetime\n",
    "from dateutil.relativedelta import relativedelta\n",
    "import warnings\n",
    "warnings.filterwarnings(\"ignore\")\n",
    "from tqdm.auto import tqdm\n",
    "import matplotlib as mpl\n",
    "import matplotlib.pyplot as plt\n",
    "import plotly.graph_objects as go\n",
    "import seaborn as sns\n",
    "\n",
    "# define data path\n",
    "with open('data_path.txt') as f:\n",
    "    lines = f.read().splitlines()\n",
    "data_path = lines[0]\n",
    "\n",
    "# load key data\n",
    "f = open(data_path+'clean_data.pckl', 'rb')\n",
    "mcdata, keydata, ids, returns, EU_4F, US_4F = pickle.load(f)\n",
    "f.close()\n",
    "\n",
    "# load betas\n",
    "f = open(data_path+'betas.pckl', 'rb')\n",
    "betas_onlyMkt, betas_4FBMG, betas_4F, betas_onlyBMG,betas_onlyBMG2, all_sample, bmg_sample = pickle.load(f)\n",
    "f.close()\n",
    "\n",
    "# load cross section data\n",
    "f = open(data_path+'cross_section.pckl', 'rb')\n",
    "cs_dict, lambdas_BMG,lambdas_BMG2, lambdas_co2 = pickle.load(f)\n",
    "f.close()\n",
    "\n",
    "# data dates\n",
    "mc_date = pd.Timestamp(\"2021-09-30\")\n",
    "key_date = pd.Timestamp(\"2020-12-31\")\n",
    "\n",
    "# load bmg data\n",
    "f = open(data_path+'bmg.pckl', 'rb')\n",
    "bmg_factors_value, bmg_factors_equal, valid_dict = pickle.load(f)\n",
    "f.close()\n",
    "\n",
    "\n",
    "# Save Data for use in other files\n",
    "f = open(data_path+'results.pckl', 'rb')\n",
    "country_stats, sector_stats = pickle.load(f)\n",
    "f.close()"
   ]
  },
  {
   "cell_type": "code",
   "execution_count": 7,
   "id": "01b78b23",
   "metadata": {},
   "outputs": [],
   "source": [
    "# get country codes\n",
    "df = pd.read_csv('https://raw.githubusercontent.com/plotly/datasets/master/2014_world_gdp_with_codes.csv')\n",
    "\n",
    "# rename: Serbia, USA, Bosnia, \n",
    "country_stats = country_stats.reset_index()\n",
    "country_stats[\"Country\"] = np.where(country_stats[\"Country\"] == \"USA\",\"United States\",country_stats[\"Country\"])\n",
    "country_stats[\"Country\"] = np.where(country_stats[\"Country\"] == \"Republic of Serbia\",\"Serbia\",country_stats[\"Country\"])\n",
    "country_stats[\"Country\"] = np.where(country_stats[\"Country\"] == \"Bosnia\",\"Bosnia and Herzegovina\",country_stats[\"Country\"])\n",
    "\n",
    "# exclude countries with less than 5 stocks in sample\n",
    "country_stats = country_stats.drop(country_stats[country_stats.Num_Firms < 5].index)\n",
    "country_stats = country_stats.reset_index(drop=True)\n",
    "\n",
    "country_stats = country_stats.merge(df,how=\"left\",left_on=\"Country\",right_on=\"COUNTRY\")"
   ]
  },
  {
   "cell_type": "code",
   "execution_count": 8,
   "id": "6d7bee33",
   "metadata": {},
   "outputs": [],
   "source": [
    "import plotly.express as px\n",
    "\n",
    "config = {\n",
    "  'toImageButtonOptions': {\n",
    "    'format': 'png', # one of png, svg, jpeg, webp\n",
    "    'filename': 'custom_image',\n",
    "    'height': 1200,\n",
    "    'width': 1900,\n",
    "    'scale': 1 # Multiply title/legend/axis/canvas sizes by this factor\n",
    "  }\n",
    "}"
   ]
  },
  {
   "cell_type": "code",
   "execution_count": 24,
   "id": "a577a8a5",
   "metadata": {},
   "outputs": [
    {
     "data": {
      "text/html": [
       "<div>\n",
       "<style scoped>\n",
       "    .dataframe tbody tr th:only-of-type {\n",
       "        vertical-align: middle;\n",
       "    }\n",
       "\n",
       "    .dataframe tbody tr th {\n",
       "        vertical-align: top;\n",
       "    }\n",
       "\n",
       "    .dataframe thead th {\n",
       "        text-align: right;\n",
       "    }\n",
       "</style>\n",
       "<table border=\"1\" class=\"dataframe\">\n",
       "  <thead>\n",
       "    <tr style=\"text-align: right;\">\n",
       "      <th></th>\n",
       "      <th>Country</th>\n",
       "      <th>Average_Beta</th>\n",
       "      <th>Weighted_Average_Beta</th>\n",
       "      <th>Market_Cap</th>\n",
       "      <th>Num_Firms</th>\n",
       "      <th>Average_CO2</th>\n",
       "      <th>Average_CO2_Score</th>\n",
       "      <th>CO2counter</th>\n",
       "      <th>COUNTRY</th>\n",
       "      <th>GDP (BILLIONS)</th>\n",
       "      <th>CODE</th>\n",
       "    </tr>\n",
       "  </thead>\n",
       "  <tbody>\n",
       "    <tr>\n",
       "      <th>0</th>\n",
       "      <td>United States</td>\n",
       "      <td>0.190234</td>\n",
       "      <td>-0.128342</td>\n",
       "      <td>3.254003e+07</td>\n",
       "      <td>651</td>\n",
       "      <td>3.575757e+06</td>\n",
       "      <td>413.331795</td>\n",
       "      <td>573</td>\n",
       "      <td>United States</td>\n",
       "      <td>17420.00</td>\n",
       "      <td>USA</td>\n",
       "    </tr>\n",
       "    <tr>\n",
       "      <th>1</th>\n",
       "      <td>Germany</td>\n",
       "      <td>-0.286073</td>\n",
       "      <td>-0.315596</td>\n",
       "      <td>1.674774e+06</td>\n",
       "      <td>96</td>\n",
       "      <td>4.028748e+06</td>\n",
       "      <td>203.828943</td>\n",
       "      <td>85</td>\n",
       "      <td>Germany</td>\n",
       "      <td>3820.00</td>\n",
       "      <td>DEU</td>\n",
       "    </tr>\n",
       "    <tr>\n",
       "      <th>2</th>\n",
       "      <td>United Kingdom</td>\n",
       "      <td>0.079396</td>\n",
       "      <td>0.255046</td>\n",
       "      <td>2.614242e+06</td>\n",
       "      <td>268</td>\n",
       "      <td>1.170246e+06</td>\n",
       "      <td>186.532865</td>\n",
       "      <td>264</td>\n",
       "      <td>United Kingdom</td>\n",
       "      <td>2848.00</td>\n",
       "      <td>GBR</td>\n",
       "    </tr>\n",
       "    <tr>\n",
       "      <th>3</th>\n",
       "      <td>Sweden</td>\n",
       "      <td>-0.114800</td>\n",
       "      <td>-0.135880</td>\n",
       "      <td>5.826228e+05</td>\n",
       "      <td>93</td>\n",
       "      <td>2.267815e+05</td>\n",
       "      <td>64.075205</td>\n",
       "      <td>91</td>\n",
       "      <td>Sweden</td>\n",
       "      <td>559.10</td>\n",
       "      <td>SWE</td>\n",
       "    </tr>\n",
       "    <tr>\n",
       "      <th>4</th>\n",
       "      <td>Poland</td>\n",
       "      <td>0.007964</td>\n",
       "      <td>0.109961</td>\n",
       "      <td>4.494793e+04</td>\n",
       "      <td>18</td>\n",
       "      <td>8.715927e+06</td>\n",
       "      <td>1869.556751</td>\n",
       "      <td>17</td>\n",
       "      <td>Poland</td>\n",
       "      <td>552.20</td>\n",
       "      <td>POL</td>\n",
       "    </tr>\n",
       "    <tr>\n",
       "      <th>5</th>\n",
       "      <td>France</td>\n",
       "      <td>-0.253234</td>\n",
       "      <td>-0.316258</td>\n",
       "      <td>2.483916e+06</td>\n",
       "      <td>102</td>\n",
       "      <td>2.580493e+06</td>\n",
       "      <td>194.630768</td>\n",
       "      <td>100</td>\n",
       "      <td>France</td>\n",
       "      <td>2902.00</td>\n",
       "      <td>FRA</td>\n",
       "    </tr>\n",
       "    <tr>\n",
       "      <th>6</th>\n",
       "      <td>Italy</td>\n",
       "      <td>-0.291277</td>\n",
       "      <td>-0.060441</td>\n",
       "      <td>4.577977e+05</td>\n",
       "      <td>60</td>\n",
       "      <td>2.428985e+06</td>\n",
       "      <td>315.711641</td>\n",
       "      <td>60</td>\n",
       "      <td>Italy</td>\n",
       "      <td>2129.00</td>\n",
       "      <td>ITA</td>\n",
       "    </tr>\n",
       "    <tr>\n",
       "      <th>7</th>\n",
       "      <td>Russia</td>\n",
       "      <td>0.351849</td>\n",
       "      <td>0.505652</td>\n",
       "      <td>6.309724e+05</td>\n",
       "      <td>29</td>\n",
       "      <td>2.082991e+07</td>\n",
       "      <td>2993.369513</td>\n",
       "      <td>27</td>\n",
       "      <td>Russia</td>\n",
       "      <td>2057.00</td>\n",
       "      <td>RUS</td>\n",
       "    </tr>\n",
       "    <tr>\n",
       "      <th>8</th>\n",
       "      <td>Turkey</td>\n",
       "      <td>0.069917</td>\n",
       "      <td>0.001781</td>\n",
       "      <td>5.617683e+04</td>\n",
       "      <td>30</td>\n",
       "      <td>1.834112e+06</td>\n",
       "      <td>1519.777427</td>\n",
       "      <td>28</td>\n",
       "      <td>Turkey</td>\n",
       "      <td>813.30</td>\n",
       "      <td>TUR</td>\n",
       "    </tr>\n",
       "    <tr>\n",
       "      <th>9</th>\n",
       "      <td>Switzerland</td>\n",
       "      <td>-0.034021</td>\n",
       "      <td>-0.167600</td>\n",
       "      <td>1.722407e+06</td>\n",
       "      <td>63</td>\n",
       "      <td>2.913581e+06</td>\n",
       "      <td>774.841279</td>\n",
       "      <td>58</td>\n",
       "      <td>Switzerland</td>\n",
       "      <td>679.00</td>\n",
       "      <td>CHE</td>\n",
       "    </tr>\n",
       "    <tr>\n",
       "      <th>10</th>\n",
       "      <td>Spain</td>\n",
       "      <td>-0.231228</td>\n",
       "      <td>-0.100313</td>\n",
       "      <td>5.311942e+05</td>\n",
       "      <td>48</td>\n",
       "      <td>1.727082e+06</td>\n",
       "      <td>234.800850</td>\n",
       "      <td>48</td>\n",
       "      <td>Spain</td>\n",
       "      <td>1400.00</td>\n",
       "      <td>ESP</td>\n",
       "    </tr>\n",
       "    <tr>\n",
       "      <th>11</th>\n",
       "      <td>Norway</td>\n",
       "      <td>0.290096</td>\n",
       "      <td>0.503112</td>\n",
       "      <td>2.150409e+05</td>\n",
       "      <td>29</td>\n",
       "      <td>1.696894e+06</td>\n",
       "      <td>218.093787</td>\n",
       "      <td>28</td>\n",
       "      <td>Norway</td>\n",
       "      <td>511.60</td>\n",
       "      <td>NOR</td>\n",
       "    </tr>\n",
       "    <tr>\n",
       "      <th>12</th>\n",
       "      <td>Belgium</td>\n",
       "      <td>-0.324624</td>\n",
       "      <td>-0.145826</td>\n",
       "      <td>2.139336e+05</td>\n",
       "      <td>27</td>\n",
       "      <td>9.578722e+05</td>\n",
       "      <td>232.481405</td>\n",
       "      <td>24</td>\n",
       "      <td>Belgium</td>\n",
       "      <td>527.80</td>\n",
       "      <td>BEL</td>\n",
       "    </tr>\n",
       "    <tr>\n",
       "      <th>13</th>\n",
       "      <td>Greece</td>\n",
       "      <td>-0.852849</td>\n",
       "      <td>-0.575550</td>\n",
       "      <td>1.573894e+04</td>\n",
       "      <td>6</td>\n",
       "      <td>3.972658e+06</td>\n",
       "      <td>692.381491</td>\n",
       "      <td>6</td>\n",
       "      <td>Greece</td>\n",
       "      <td>246.40</td>\n",
       "      <td>GRC</td>\n",
       "    </tr>\n",
       "    <tr>\n",
       "      <th>14</th>\n",
       "      <td>Denmark</td>\n",
       "      <td>-0.286372</td>\n",
       "      <td>-0.375280</td>\n",
       "      <td>5.376457e+05</td>\n",
       "      <td>28</td>\n",
       "      <td>1.712509e+06</td>\n",
       "      <td>188.222733</td>\n",
       "      <td>27</td>\n",
       "      <td>Denmark</td>\n",
       "      <td>347.20</td>\n",
       "      <td>DNK</td>\n",
       "    </tr>\n",
       "    <tr>\n",
       "      <th>15</th>\n",
       "      <td>Finland</td>\n",
       "      <td>-0.116938</td>\n",
       "      <td>-0.141357</td>\n",
       "      <td>2.612682e+05</td>\n",
       "      <td>39</td>\n",
       "      <td>1.708852e+06</td>\n",
       "      <td>127.328544</td>\n",
       "      <td>39</td>\n",
       "      <td>Finland</td>\n",
       "      <td>276.30</td>\n",
       "      <td>FIN</td>\n",
       "    </tr>\n",
       "    <tr>\n",
       "      <th>16</th>\n",
       "      <td>Netherlands</td>\n",
       "      <td>-0.232120</td>\n",
       "      <td>-0.315541</td>\n",
       "      <td>1.121309e+06</td>\n",
       "      <td>40</td>\n",
       "      <td>2.707021e+06</td>\n",
       "      <td>172.996816</td>\n",
       "      <td>37</td>\n",
       "      <td>Netherlands</td>\n",
       "      <td>880.40</td>\n",
       "      <td>NLD</td>\n",
       "    </tr>\n",
       "    <tr>\n",
       "      <th>17</th>\n",
       "      <td>Ireland</td>\n",
       "      <td>-0.272719</td>\n",
       "      <td>-0.225271</td>\n",
       "      <td>8.208361e+05</td>\n",
       "      <td>26</td>\n",
       "      <td>2.475726e+06</td>\n",
       "      <td>174.655998</td>\n",
       "      <td>23</td>\n",
       "      <td>Ireland</td>\n",
       "      <td>245.80</td>\n",
       "      <td>IRL</td>\n",
       "    </tr>\n",
       "    <tr>\n",
       "      <th>18</th>\n",
       "      <td>Luxembourg</td>\n",
       "      <td>-0.036822</td>\n",
       "      <td>0.142201</td>\n",
       "      <td>1.415588e+05</td>\n",
       "      <td>17</td>\n",
       "      <td>1.093486e+07</td>\n",
       "      <td>566.371364</td>\n",
       "      <td>16</td>\n",
       "      <td>Luxembourg</td>\n",
       "      <td>63.93</td>\n",
       "      <td>LUX</td>\n",
       "    </tr>\n",
       "    <tr>\n",
       "      <th>19</th>\n",
       "      <td>Portugal</td>\n",
       "      <td>-0.412339</td>\n",
       "      <td>0.016931</td>\n",
       "      <td>5.077382e+04</td>\n",
       "      <td>9</td>\n",
       "      <td>2.448402e+06</td>\n",
       "      <td>442.212967</td>\n",
       "      <td>8</td>\n",
       "      <td>Portugal</td>\n",
       "      <td>228.20</td>\n",
       "      <td>PRT</td>\n",
       "    </tr>\n",
       "    <tr>\n",
       "      <th>20</th>\n",
       "      <td>Austria</td>\n",
       "      <td>-0.079529</td>\n",
       "      <td>0.100599</td>\n",
       "      <td>9.498948e+04</td>\n",
       "      <td>24</td>\n",
       "      <td>1.614204e+06</td>\n",
       "      <td>306.301183</td>\n",
       "      <td>24</td>\n",
       "      <td>Austria</td>\n",
       "      <td>436.10</td>\n",
       "      <td>AUT</td>\n",
       "    </tr>\n",
       "  </tbody>\n",
       "</table>\n",
       "</div>"
      ],
      "text/plain": [
       "           Country  Average_Beta  Weighted_Average_Beta    Market_Cap  \\\n",
       "0    United States      0.190234              -0.128342  3.254003e+07   \n",
       "1          Germany     -0.286073              -0.315596  1.674774e+06   \n",
       "2   United Kingdom      0.079396               0.255046  2.614242e+06   \n",
       "3           Sweden     -0.114800              -0.135880  5.826228e+05   \n",
       "4           Poland      0.007964               0.109961  4.494793e+04   \n",
       "5           France     -0.253234              -0.316258  2.483916e+06   \n",
       "6            Italy     -0.291277              -0.060441  4.577977e+05   \n",
       "7           Russia      0.351849               0.505652  6.309724e+05   \n",
       "8           Turkey      0.069917               0.001781  5.617683e+04   \n",
       "9      Switzerland     -0.034021              -0.167600  1.722407e+06   \n",
       "10           Spain     -0.231228              -0.100313  5.311942e+05   \n",
       "11          Norway      0.290096               0.503112  2.150409e+05   \n",
       "12         Belgium     -0.324624              -0.145826  2.139336e+05   \n",
       "13          Greece     -0.852849              -0.575550  1.573894e+04   \n",
       "14         Denmark     -0.286372              -0.375280  5.376457e+05   \n",
       "15         Finland     -0.116938              -0.141357  2.612682e+05   \n",
       "16     Netherlands     -0.232120              -0.315541  1.121309e+06   \n",
       "17         Ireland     -0.272719              -0.225271  8.208361e+05   \n",
       "18      Luxembourg     -0.036822               0.142201  1.415588e+05   \n",
       "19        Portugal     -0.412339               0.016931  5.077382e+04   \n",
       "20         Austria     -0.079529               0.100599  9.498948e+04   \n",
       "\n",
       "    Num_Firms   Average_CO2  Average_CO2_Score  CO2counter         COUNTRY  \\\n",
       "0         651  3.575757e+06         413.331795         573   United States   \n",
       "1          96  4.028748e+06         203.828943          85         Germany   \n",
       "2         268  1.170246e+06         186.532865         264  United Kingdom   \n",
       "3          93  2.267815e+05          64.075205          91          Sweden   \n",
       "4          18  8.715927e+06        1869.556751          17          Poland   \n",
       "5         102  2.580493e+06         194.630768         100          France   \n",
       "6          60  2.428985e+06         315.711641          60           Italy   \n",
       "7          29  2.082991e+07        2993.369513          27          Russia   \n",
       "8          30  1.834112e+06        1519.777427          28          Turkey   \n",
       "9          63  2.913581e+06         774.841279          58     Switzerland   \n",
       "10         48  1.727082e+06         234.800850          48           Spain   \n",
       "11         29  1.696894e+06         218.093787          28          Norway   \n",
       "12         27  9.578722e+05         232.481405          24         Belgium   \n",
       "13          6  3.972658e+06         692.381491           6          Greece   \n",
       "14         28  1.712509e+06         188.222733          27         Denmark   \n",
       "15         39  1.708852e+06         127.328544          39         Finland   \n",
       "16         40  2.707021e+06         172.996816          37     Netherlands   \n",
       "17         26  2.475726e+06         174.655998          23         Ireland   \n",
       "18         17  1.093486e+07         566.371364          16      Luxembourg   \n",
       "19          9  2.448402e+06         442.212967           8        Portugal   \n",
       "20         24  1.614204e+06         306.301183          24         Austria   \n",
       "\n",
       "    GDP (BILLIONS) CODE  \n",
       "0         17420.00  USA  \n",
       "1          3820.00  DEU  \n",
       "2          2848.00  GBR  \n",
       "3           559.10  SWE  \n",
       "4           552.20  POL  \n",
       "5          2902.00  FRA  \n",
       "6          2129.00  ITA  \n",
       "7          2057.00  RUS  \n",
       "8           813.30  TUR  \n",
       "9           679.00  CHE  \n",
       "10         1400.00  ESP  \n",
       "11          511.60  NOR  \n",
       "12          527.80  BEL  \n",
       "13          246.40  GRC  \n",
       "14          347.20  DNK  \n",
       "15          276.30  FIN  \n",
       "16          880.40  NLD  \n",
       "17          245.80  IRL  \n",
       "18           63.93  LUX  \n",
       "19          228.20  PRT  \n",
       "20          436.10  AUT  "
      ]
     },
     "execution_count": 24,
     "metadata": {},
     "output_type": "execute_result"
    }
   ],
   "source": [
    "country_stats"
   ]
  },
  {
   "cell_type": "code",
   "execution_count": 23,
   "id": "a7d00c8e",
   "metadata": {},
   "outputs": [
    {
     "data": {
      "application/vnd.plotly.v1+json": {
       "config": {
        "plotlyServerURL": "https://plot.ly",
        "responsive": true,
        "toImageButtonOptions": {
         "filename": "custom_image",
         "format": "png",
         "height": 1200,
         "scale": 1,
         "width": 1900
        }
       },
       "data": [
        {
         "autocolorscale": false,
         "colorbar": {
          "tickprefix": ""
         },
         "colorscale": [
          [
           0,
           "rgb(133,87,35)"
          ],
          [
           0.5,
           "rgb(242, 238, 237)"
          ],
          [
           1,
           "rgb(131, 207, 23)"
          ]
         ],
         "locations": [
          "USA",
          "DEU",
          "GBR",
          "SWE",
          "POL",
          "FRA",
          "ITA",
          "RUS",
          "TUR",
          "CHE",
          "ESP",
          "NOR",
          "BEL",
          "GRC",
          "DNK",
          "FIN",
          "NLD",
          "IRL",
          "LUX",
          "PRT",
          "AUT"
         ],
         "marker": {
          "line": {
           "color": "darkgray",
           "width": 0.8
          }
         },
         "reversescale": true,
         "text": [
          "United States",
          "Germany",
          "United Kingdom",
          "Sweden",
          "Poland",
          "France",
          "Italy",
          "Russia",
          "Turkey",
          "Switzerland",
          "Spain",
          "Norway",
          "Belgium",
          "Greece",
          "Denmark",
          "Finland",
          "Netherlands",
          "Ireland",
          "Luxembourg",
          "Portugal",
          "Austria"
         ],
         "type": "choropleth",
         "z": [
          -0.1283422241491021,
          -0.31559649626826825,
          0.2550460686993501,
          -0.13587973537633452,
          0.1099611354976076,
          -0.31625849051670935,
          -0.060441190151875386,
          0.5056518015893011,
          0.0017805835523653024,
          -0.16760005055544772,
          -0.10031275026423256,
          0.5031117296576133,
          -0.14582574489697844,
          -0.5755504484455459,
          -0.37527969701623126,
          -0.14135747856391884,
          -0.31554147219585804,
          -0.22527103318200306,
          0.14220135872063472,
          0.01693120337687666,
          0.10059876699953159
         ],
         "zmid": 0
        }
       ],
       "layout": {
        "geo": {
         "projection": {
          "type": "equirectangular"
         },
         "showcoastlines": false,
         "showframe": false
        },
        "height": 600,
        "template": {
         "data": {
          "bar": [
           {
            "error_x": {
             "color": "#2a3f5f"
            },
            "error_y": {
             "color": "#2a3f5f"
            },
            "marker": {
             "line": {
              "color": "#E5ECF6",
              "width": 0.5
             },
             "pattern": {
              "fillmode": "overlay",
              "size": 10,
              "solidity": 0.2
             }
            },
            "type": "bar"
           }
          ],
          "barpolar": [
           {
            "marker": {
             "line": {
              "color": "#E5ECF6",
              "width": 0.5
             },
             "pattern": {
              "fillmode": "overlay",
              "size": 10,
              "solidity": 0.2
             }
            },
            "type": "barpolar"
           }
          ],
          "carpet": [
           {
            "aaxis": {
             "endlinecolor": "#2a3f5f",
             "gridcolor": "white",
             "linecolor": "white",
             "minorgridcolor": "white",
             "startlinecolor": "#2a3f5f"
            },
            "baxis": {
             "endlinecolor": "#2a3f5f",
             "gridcolor": "white",
             "linecolor": "white",
             "minorgridcolor": "white",
             "startlinecolor": "#2a3f5f"
            },
            "type": "carpet"
           }
          ],
          "choropleth": [
           {
            "colorbar": {
             "outlinewidth": 0,
             "ticks": ""
            },
            "type": "choropleth"
           }
          ],
          "contour": [
           {
            "colorbar": {
             "outlinewidth": 0,
             "ticks": ""
            },
            "colorscale": [
             [
              0,
              "#0d0887"
             ],
             [
              0.1111111111111111,
              "#46039f"
             ],
             [
              0.2222222222222222,
              "#7201a8"
             ],
             [
              0.3333333333333333,
              "#9c179e"
             ],
             [
              0.4444444444444444,
              "#bd3786"
             ],
             [
              0.5555555555555556,
              "#d8576b"
             ],
             [
              0.6666666666666666,
              "#ed7953"
             ],
             [
              0.7777777777777778,
              "#fb9f3a"
             ],
             [
              0.8888888888888888,
              "#fdca26"
             ],
             [
              1,
              "#f0f921"
             ]
            ],
            "type": "contour"
           }
          ],
          "contourcarpet": [
           {
            "colorbar": {
             "outlinewidth": 0,
             "ticks": ""
            },
            "type": "contourcarpet"
           }
          ],
          "heatmap": [
           {
            "colorbar": {
             "outlinewidth": 0,
             "ticks": ""
            },
            "colorscale": [
             [
              0,
              "#0d0887"
             ],
             [
              0.1111111111111111,
              "#46039f"
             ],
             [
              0.2222222222222222,
              "#7201a8"
             ],
             [
              0.3333333333333333,
              "#9c179e"
             ],
             [
              0.4444444444444444,
              "#bd3786"
             ],
             [
              0.5555555555555556,
              "#d8576b"
             ],
             [
              0.6666666666666666,
              "#ed7953"
             ],
             [
              0.7777777777777778,
              "#fb9f3a"
             ],
             [
              0.8888888888888888,
              "#fdca26"
             ],
             [
              1,
              "#f0f921"
             ]
            ],
            "type": "heatmap"
           }
          ],
          "heatmapgl": [
           {
            "colorbar": {
             "outlinewidth": 0,
             "ticks": ""
            },
            "colorscale": [
             [
              0,
              "#0d0887"
             ],
             [
              0.1111111111111111,
              "#46039f"
             ],
             [
              0.2222222222222222,
              "#7201a8"
             ],
             [
              0.3333333333333333,
              "#9c179e"
             ],
             [
              0.4444444444444444,
              "#bd3786"
             ],
             [
              0.5555555555555556,
              "#d8576b"
             ],
             [
              0.6666666666666666,
              "#ed7953"
             ],
             [
              0.7777777777777778,
              "#fb9f3a"
             ],
             [
              0.8888888888888888,
              "#fdca26"
             ],
             [
              1,
              "#f0f921"
             ]
            ],
            "type": "heatmapgl"
           }
          ],
          "histogram": [
           {
            "marker": {
             "pattern": {
              "fillmode": "overlay",
              "size": 10,
              "solidity": 0.2
             }
            },
            "type": "histogram"
           }
          ],
          "histogram2d": [
           {
            "colorbar": {
             "outlinewidth": 0,
             "ticks": ""
            },
            "colorscale": [
             [
              0,
              "#0d0887"
             ],
             [
              0.1111111111111111,
              "#46039f"
             ],
             [
              0.2222222222222222,
              "#7201a8"
             ],
             [
              0.3333333333333333,
              "#9c179e"
             ],
             [
              0.4444444444444444,
              "#bd3786"
             ],
             [
              0.5555555555555556,
              "#d8576b"
             ],
             [
              0.6666666666666666,
              "#ed7953"
             ],
             [
              0.7777777777777778,
              "#fb9f3a"
             ],
             [
              0.8888888888888888,
              "#fdca26"
             ],
             [
              1,
              "#f0f921"
             ]
            ],
            "type": "histogram2d"
           }
          ],
          "histogram2dcontour": [
           {
            "colorbar": {
             "outlinewidth": 0,
             "ticks": ""
            },
            "colorscale": [
             [
              0,
              "#0d0887"
             ],
             [
              0.1111111111111111,
              "#46039f"
             ],
             [
              0.2222222222222222,
              "#7201a8"
             ],
             [
              0.3333333333333333,
              "#9c179e"
             ],
             [
              0.4444444444444444,
              "#bd3786"
             ],
             [
              0.5555555555555556,
              "#d8576b"
             ],
             [
              0.6666666666666666,
              "#ed7953"
             ],
             [
              0.7777777777777778,
              "#fb9f3a"
             ],
             [
              0.8888888888888888,
              "#fdca26"
             ],
             [
              1,
              "#f0f921"
             ]
            ],
            "type": "histogram2dcontour"
           }
          ],
          "mesh3d": [
           {
            "colorbar": {
             "outlinewidth": 0,
             "ticks": ""
            },
            "type": "mesh3d"
           }
          ],
          "parcoords": [
           {
            "line": {
             "colorbar": {
              "outlinewidth": 0,
              "ticks": ""
             }
            },
            "type": "parcoords"
           }
          ],
          "pie": [
           {
            "automargin": true,
            "type": "pie"
           }
          ],
          "scatter": [
           {
            "marker": {
             "colorbar": {
              "outlinewidth": 0,
              "ticks": ""
             }
            },
            "type": "scatter"
           }
          ],
          "scatter3d": [
           {
            "line": {
             "colorbar": {
              "outlinewidth": 0,
              "ticks": ""
             }
            },
            "marker": {
             "colorbar": {
              "outlinewidth": 0,
              "ticks": ""
             }
            },
            "type": "scatter3d"
           }
          ],
          "scattercarpet": [
           {
            "marker": {
             "colorbar": {
              "outlinewidth": 0,
              "ticks": ""
             }
            },
            "type": "scattercarpet"
           }
          ],
          "scattergeo": [
           {
            "marker": {
             "colorbar": {
              "outlinewidth": 0,
              "ticks": ""
             }
            },
            "type": "scattergeo"
           }
          ],
          "scattergl": [
           {
            "marker": {
             "colorbar": {
              "outlinewidth": 0,
              "ticks": ""
             }
            },
            "type": "scattergl"
           }
          ],
          "scattermapbox": [
           {
            "marker": {
             "colorbar": {
              "outlinewidth": 0,
              "ticks": ""
             }
            },
            "type": "scattermapbox"
           }
          ],
          "scatterpolar": [
           {
            "marker": {
             "colorbar": {
              "outlinewidth": 0,
              "ticks": ""
             }
            },
            "type": "scatterpolar"
           }
          ],
          "scatterpolargl": [
           {
            "marker": {
             "colorbar": {
              "outlinewidth": 0,
              "ticks": ""
             }
            },
            "type": "scatterpolargl"
           }
          ],
          "scatterternary": [
           {
            "marker": {
             "colorbar": {
              "outlinewidth": 0,
              "ticks": ""
             }
            },
            "type": "scatterternary"
           }
          ],
          "surface": [
           {
            "colorbar": {
             "outlinewidth": 0,
             "ticks": ""
            },
            "colorscale": [
             [
              0,
              "#0d0887"
             ],
             [
              0.1111111111111111,
              "#46039f"
             ],
             [
              0.2222222222222222,
              "#7201a8"
             ],
             [
              0.3333333333333333,
              "#9c179e"
             ],
             [
              0.4444444444444444,
              "#bd3786"
             ],
             [
              0.5555555555555556,
              "#d8576b"
             ],
             [
              0.6666666666666666,
              "#ed7953"
             ],
             [
              0.7777777777777778,
              "#fb9f3a"
             ],
             [
              0.8888888888888888,
              "#fdca26"
             ],
             [
              1,
              "#f0f921"
             ]
            ],
            "type": "surface"
           }
          ],
          "table": [
           {
            "cells": {
             "fill": {
              "color": "#EBF0F8"
             },
             "line": {
              "color": "white"
             }
            },
            "header": {
             "fill": {
              "color": "#C8D4E3"
             },
             "line": {
              "color": "white"
             }
            },
            "type": "table"
           }
          ]
         },
         "layout": {
          "annotationdefaults": {
           "arrowcolor": "#2a3f5f",
           "arrowhead": 0,
           "arrowwidth": 1
          },
          "autotypenumbers": "strict",
          "coloraxis": {
           "colorbar": {
            "outlinewidth": 0,
            "ticks": ""
           }
          },
          "colorscale": {
           "diverging": [
            [
             0,
             "#8e0152"
            ],
            [
             0.1,
             "#c51b7d"
            ],
            [
             0.2,
             "#de77ae"
            ],
            [
             0.3,
             "#f1b6da"
            ],
            [
             0.4,
             "#fde0ef"
            ],
            [
             0.5,
             "#f7f7f7"
            ],
            [
             0.6,
             "#e6f5d0"
            ],
            [
             0.7,
             "#b8e186"
            ],
            [
             0.8,
             "#7fbc41"
            ],
            [
             0.9,
             "#4d9221"
            ],
            [
             1,
             "#276419"
            ]
           ],
           "sequential": [
            [
             0,
             "#0d0887"
            ],
            [
             0.1111111111111111,
             "#46039f"
            ],
            [
             0.2222222222222222,
             "#7201a8"
            ],
            [
             0.3333333333333333,
             "#9c179e"
            ],
            [
             0.4444444444444444,
             "#bd3786"
            ],
            [
             0.5555555555555556,
             "#d8576b"
            ],
            [
             0.6666666666666666,
             "#ed7953"
            ],
            [
             0.7777777777777778,
             "#fb9f3a"
            ],
            [
             0.8888888888888888,
             "#fdca26"
            ],
            [
             1,
             "#f0f921"
            ]
           ],
           "sequentialminus": [
            [
             0,
             "#0d0887"
            ],
            [
             0.1111111111111111,
             "#46039f"
            ],
            [
             0.2222222222222222,
             "#7201a8"
            ],
            [
             0.3333333333333333,
             "#9c179e"
            ],
            [
             0.4444444444444444,
             "#bd3786"
            ],
            [
             0.5555555555555556,
             "#d8576b"
            ],
            [
             0.6666666666666666,
             "#ed7953"
            ],
            [
             0.7777777777777778,
             "#fb9f3a"
            ],
            [
             0.8888888888888888,
             "#fdca26"
            ],
            [
             1,
             "#f0f921"
            ]
           ]
          },
          "colorway": [
           "#636efa",
           "#EF553B",
           "#00cc96",
           "#ab63fa",
           "#FFA15A",
           "#19d3f3",
           "#FF6692",
           "#B6E880",
           "#FF97FF",
           "#FECB52"
          ],
          "font": {
           "color": "#2a3f5f"
          },
          "geo": {
           "bgcolor": "white",
           "lakecolor": "white",
           "landcolor": "#E5ECF6",
           "showlakes": true,
           "showland": true,
           "subunitcolor": "white"
          },
          "hoverlabel": {
           "align": "left"
          },
          "hovermode": "closest",
          "mapbox": {
           "style": "light"
          },
          "paper_bgcolor": "white",
          "plot_bgcolor": "#E5ECF6",
          "polar": {
           "angularaxis": {
            "gridcolor": "white",
            "linecolor": "white",
            "ticks": ""
           },
           "bgcolor": "#E5ECF6",
           "radialaxis": {
            "gridcolor": "white",
            "linecolor": "white",
            "ticks": ""
           }
          },
          "scene": {
           "xaxis": {
            "backgroundcolor": "#E5ECF6",
            "gridcolor": "white",
            "gridwidth": 2,
            "linecolor": "white",
            "showbackground": true,
            "ticks": "",
            "zerolinecolor": "white"
           },
           "yaxis": {
            "backgroundcolor": "#E5ECF6",
            "gridcolor": "white",
            "gridwidth": 2,
            "linecolor": "white",
            "showbackground": true,
            "ticks": "",
            "zerolinecolor": "white"
           },
           "zaxis": {
            "backgroundcolor": "#E5ECF6",
            "gridcolor": "white",
            "gridwidth": 2,
            "linecolor": "white",
            "showbackground": true,
            "ticks": "",
            "zerolinecolor": "white"
           }
          },
          "shapedefaults": {
           "line": {
            "color": "#2a3f5f"
           }
          },
          "ternary": {
           "aaxis": {
            "gridcolor": "white",
            "linecolor": "white",
            "ticks": ""
           },
           "baxis": {
            "gridcolor": "white",
            "linecolor": "white",
            "ticks": ""
           },
           "bgcolor": "#E5ECF6",
           "caxis": {
            "gridcolor": "white",
            "linecolor": "white",
            "ticks": ""
           }
          },
          "title": {
           "x": 0.05
          },
          "xaxis": {
           "automargin": true,
           "gridcolor": "white",
           "linecolor": "white",
           "ticks": "",
           "title": {
            "standoff": 15
           },
           "zerolinecolor": "white",
           "zerolinewidth": 2
          },
          "yaxis": {
           "automargin": true,
           "gridcolor": "white",
           "linecolor": "white",
           "ticks": "",
           "title": {
            "standoff": 15
           },
           "zerolinecolor": "white",
           "zerolinewidth": 2
          }
         }
        },
        "width": 950
       }
      },
      "text/html": [
       "<div>                            <div id=\"d5cb3c6d-2f22-4d74-80c0-a8ad4149755b\" class=\"plotly-graph-div\" style=\"height:600px; width:950px;\"></div>            <script type=\"text/javascript\">                require([\"plotly\"], function(Plotly) {                    window.PLOTLYENV=window.PLOTLYENV || {};                                    if (document.getElementById(\"d5cb3c6d-2f22-4d74-80c0-a8ad4149755b\")) {                    Plotly.newPlot(                        \"d5cb3c6d-2f22-4d74-80c0-a8ad4149755b\",                        [{\"autocolorscale\":false,\"colorbar\":{\"tickprefix\":\"\"},\"colorscale\":[[0.0,\"rgb(133,87,35)\"],[0.5,\"rgb(242, 238, 237)\"],[1.0,\"rgb(131, 207, 23)\"]],\"locations\":[\"USA\",\"DEU\",\"GBR\",\"SWE\",\"POL\",\"FRA\",\"ITA\",\"RUS\",\"TUR\",\"CHE\",\"ESP\",\"NOR\",\"BEL\",\"GRC\",\"DNK\",\"FIN\",\"NLD\",\"IRL\",\"LUX\",\"PRT\",\"AUT\"],\"marker\":{\"line\":{\"color\":\"darkgray\",\"width\":0.8}},\"reversescale\":true,\"text\":[\"United States\",\"Germany\",\"United Kingdom\",\"Sweden\",\"Poland\",\"France\",\"Italy\",\"Russia\",\"Turkey\",\"Switzerland\",\"Spain\",\"Norway\",\"Belgium\",\"Greece\",\"Denmark\",\"Finland\",\"Netherlands\",\"Ireland\",\"Luxembourg\",\"Portugal\",\"Austria\"],\"z\":[-0.1283422241491021,-0.31559649626826825,0.2550460686993501,-0.13587973537633452,0.1099611354976076,-0.31625849051670935,-0.060441190151875386,0.5056518015893011,0.0017805835523653024,-0.16760005055544772,-0.10031275026423256,0.5031117296576133,-0.14582574489697844,-0.5755504484455459,-0.37527969701623126,-0.14135747856391884,-0.31554147219585804,-0.22527103318200306,0.14220135872063472,0.01693120337687666,0.10059876699953159],\"zmid\":0,\"type\":\"choropleth\"}],                        {\"template\":{\"data\":{\"bar\":[{\"error_x\":{\"color\":\"#2a3f5f\"},\"error_y\":{\"color\":\"#2a3f5f\"},\"marker\":{\"line\":{\"color\":\"#E5ECF6\",\"width\":0.5},\"pattern\":{\"fillmode\":\"overlay\",\"size\":10,\"solidity\":0.2}},\"type\":\"bar\"}],\"barpolar\":[{\"marker\":{\"line\":{\"color\":\"#E5ECF6\",\"width\":0.5},\"pattern\":{\"fillmode\":\"overlay\",\"size\":10,\"solidity\":0.2}},\"type\":\"barpolar\"}],\"carpet\":[{\"aaxis\":{\"endlinecolor\":\"#2a3f5f\",\"gridcolor\":\"white\",\"linecolor\":\"white\",\"minorgridcolor\":\"white\",\"startlinecolor\":\"#2a3f5f\"},\"baxis\":{\"endlinecolor\":\"#2a3f5f\",\"gridcolor\":\"white\",\"linecolor\":\"white\",\"minorgridcolor\":\"white\",\"startlinecolor\":\"#2a3f5f\"},\"type\":\"carpet\"}],\"choropleth\":[{\"colorbar\":{\"outlinewidth\":0,\"ticks\":\"\"},\"type\":\"choropleth\"}],\"contour\":[{\"colorbar\":{\"outlinewidth\":0,\"ticks\":\"\"},\"colorscale\":[[0.0,\"#0d0887\"],[0.1111111111111111,\"#46039f\"],[0.2222222222222222,\"#7201a8\"],[0.3333333333333333,\"#9c179e\"],[0.4444444444444444,\"#bd3786\"],[0.5555555555555556,\"#d8576b\"],[0.6666666666666666,\"#ed7953\"],[0.7777777777777778,\"#fb9f3a\"],[0.8888888888888888,\"#fdca26\"],[1.0,\"#f0f921\"]],\"type\":\"contour\"}],\"contourcarpet\":[{\"colorbar\":{\"outlinewidth\":0,\"ticks\":\"\"},\"type\":\"contourcarpet\"}],\"heatmap\":[{\"colorbar\":{\"outlinewidth\":0,\"ticks\":\"\"},\"colorscale\":[[0.0,\"#0d0887\"],[0.1111111111111111,\"#46039f\"],[0.2222222222222222,\"#7201a8\"],[0.3333333333333333,\"#9c179e\"],[0.4444444444444444,\"#bd3786\"],[0.5555555555555556,\"#d8576b\"],[0.6666666666666666,\"#ed7953\"],[0.7777777777777778,\"#fb9f3a\"],[0.8888888888888888,\"#fdca26\"],[1.0,\"#f0f921\"]],\"type\":\"heatmap\"}],\"heatmapgl\":[{\"colorbar\":{\"outlinewidth\":0,\"ticks\":\"\"},\"colorscale\":[[0.0,\"#0d0887\"],[0.1111111111111111,\"#46039f\"],[0.2222222222222222,\"#7201a8\"],[0.3333333333333333,\"#9c179e\"],[0.4444444444444444,\"#bd3786\"],[0.5555555555555556,\"#d8576b\"],[0.6666666666666666,\"#ed7953\"],[0.7777777777777778,\"#fb9f3a\"],[0.8888888888888888,\"#fdca26\"],[1.0,\"#f0f921\"]],\"type\":\"heatmapgl\"}],\"histogram\":[{\"marker\":{\"pattern\":{\"fillmode\":\"overlay\",\"size\":10,\"solidity\":0.2}},\"type\":\"histogram\"}],\"histogram2d\":[{\"colorbar\":{\"outlinewidth\":0,\"ticks\":\"\"},\"colorscale\":[[0.0,\"#0d0887\"],[0.1111111111111111,\"#46039f\"],[0.2222222222222222,\"#7201a8\"],[0.3333333333333333,\"#9c179e\"],[0.4444444444444444,\"#bd3786\"],[0.5555555555555556,\"#d8576b\"],[0.6666666666666666,\"#ed7953\"],[0.7777777777777778,\"#fb9f3a\"],[0.8888888888888888,\"#fdca26\"],[1.0,\"#f0f921\"]],\"type\":\"histogram2d\"}],\"histogram2dcontour\":[{\"colorbar\":{\"outlinewidth\":0,\"ticks\":\"\"},\"colorscale\":[[0.0,\"#0d0887\"],[0.1111111111111111,\"#46039f\"],[0.2222222222222222,\"#7201a8\"],[0.3333333333333333,\"#9c179e\"],[0.4444444444444444,\"#bd3786\"],[0.5555555555555556,\"#d8576b\"],[0.6666666666666666,\"#ed7953\"],[0.7777777777777778,\"#fb9f3a\"],[0.8888888888888888,\"#fdca26\"],[1.0,\"#f0f921\"]],\"type\":\"histogram2dcontour\"}],\"mesh3d\":[{\"colorbar\":{\"outlinewidth\":0,\"ticks\":\"\"},\"type\":\"mesh3d\"}],\"parcoords\":[{\"line\":{\"colorbar\":{\"outlinewidth\":0,\"ticks\":\"\"}},\"type\":\"parcoords\"}],\"pie\":[{\"automargin\":true,\"type\":\"pie\"}],\"scatter\":[{\"marker\":{\"colorbar\":{\"outlinewidth\":0,\"ticks\":\"\"}},\"type\":\"scatter\"}],\"scatter3d\":[{\"line\":{\"colorbar\":{\"outlinewidth\":0,\"ticks\":\"\"}},\"marker\":{\"colorbar\":{\"outlinewidth\":0,\"ticks\":\"\"}},\"type\":\"scatter3d\"}],\"scattercarpet\":[{\"marker\":{\"colorbar\":{\"outlinewidth\":0,\"ticks\":\"\"}},\"type\":\"scattercarpet\"}],\"scattergeo\":[{\"marker\":{\"colorbar\":{\"outlinewidth\":0,\"ticks\":\"\"}},\"type\":\"scattergeo\"}],\"scattergl\":[{\"marker\":{\"colorbar\":{\"outlinewidth\":0,\"ticks\":\"\"}},\"type\":\"scattergl\"}],\"scattermapbox\":[{\"marker\":{\"colorbar\":{\"outlinewidth\":0,\"ticks\":\"\"}},\"type\":\"scattermapbox\"}],\"scatterpolar\":[{\"marker\":{\"colorbar\":{\"outlinewidth\":0,\"ticks\":\"\"}},\"type\":\"scatterpolar\"}],\"scatterpolargl\":[{\"marker\":{\"colorbar\":{\"outlinewidth\":0,\"ticks\":\"\"}},\"type\":\"scatterpolargl\"}],\"scatterternary\":[{\"marker\":{\"colorbar\":{\"outlinewidth\":0,\"ticks\":\"\"}},\"type\":\"scatterternary\"}],\"surface\":[{\"colorbar\":{\"outlinewidth\":0,\"ticks\":\"\"},\"colorscale\":[[0.0,\"#0d0887\"],[0.1111111111111111,\"#46039f\"],[0.2222222222222222,\"#7201a8\"],[0.3333333333333333,\"#9c179e\"],[0.4444444444444444,\"#bd3786\"],[0.5555555555555556,\"#d8576b\"],[0.6666666666666666,\"#ed7953\"],[0.7777777777777778,\"#fb9f3a\"],[0.8888888888888888,\"#fdca26\"],[1.0,\"#f0f921\"]],\"type\":\"surface\"}],\"table\":[{\"cells\":{\"fill\":{\"color\":\"#EBF0F8\"},\"line\":{\"color\":\"white\"}},\"header\":{\"fill\":{\"color\":\"#C8D4E3\"},\"line\":{\"color\":\"white\"}},\"type\":\"table\"}]},\"layout\":{\"annotationdefaults\":{\"arrowcolor\":\"#2a3f5f\",\"arrowhead\":0,\"arrowwidth\":1},\"autotypenumbers\":\"strict\",\"coloraxis\":{\"colorbar\":{\"outlinewidth\":0,\"ticks\":\"\"}},\"colorscale\":{\"diverging\":[[0,\"#8e0152\"],[0.1,\"#c51b7d\"],[0.2,\"#de77ae\"],[0.3,\"#f1b6da\"],[0.4,\"#fde0ef\"],[0.5,\"#f7f7f7\"],[0.6,\"#e6f5d0\"],[0.7,\"#b8e186\"],[0.8,\"#7fbc41\"],[0.9,\"#4d9221\"],[1,\"#276419\"]],\"sequential\":[[0.0,\"#0d0887\"],[0.1111111111111111,\"#46039f\"],[0.2222222222222222,\"#7201a8\"],[0.3333333333333333,\"#9c179e\"],[0.4444444444444444,\"#bd3786\"],[0.5555555555555556,\"#d8576b\"],[0.6666666666666666,\"#ed7953\"],[0.7777777777777778,\"#fb9f3a\"],[0.8888888888888888,\"#fdca26\"],[1.0,\"#f0f921\"]],\"sequentialminus\":[[0.0,\"#0d0887\"],[0.1111111111111111,\"#46039f\"],[0.2222222222222222,\"#7201a8\"],[0.3333333333333333,\"#9c179e\"],[0.4444444444444444,\"#bd3786\"],[0.5555555555555556,\"#d8576b\"],[0.6666666666666666,\"#ed7953\"],[0.7777777777777778,\"#fb9f3a\"],[0.8888888888888888,\"#fdca26\"],[1.0,\"#f0f921\"]]},\"colorway\":[\"#636efa\",\"#EF553B\",\"#00cc96\",\"#ab63fa\",\"#FFA15A\",\"#19d3f3\",\"#FF6692\",\"#B6E880\",\"#FF97FF\",\"#FECB52\"],\"font\":{\"color\":\"#2a3f5f\"},\"geo\":{\"bgcolor\":\"white\",\"lakecolor\":\"white\",\"landcolor\":\"#E5ECF6\",\"showlakes\":true,\"showland\":true,\"subunitcolor\":\"white\"},\"hoverlabel\":{\"align\":\"left\"},\"hovermode\":\"closest\",\"mapbox\":{\"style\":\"light\"},\"paper_bgcolor\":\"white\",\"plot_bgcolor\":\"#E5ECF6\",\"polar\":{\"angularaxis\":{\"gridcolor\":\"white\",\"linecolor\":\"white\",\"ticks\":\"\"},\"bgcolor\":\"#E5ECF6\",\"radialaxis\":{\"gridcolor\":\"white\",\"linecolor\":\"white\",\"ticks\":\"\"}},\"scene\":{\"xaxis\":{\"backgroundcolor\":\"#E5ECF6\",\"gridcolor\":\"white\",\"gridwidth\":2,\"linecolor\":\"white\",\"showbackground\":true,\"ticks\":\"\",\"zerolinecolor\":\"white\"},\"yaxis\":{\"backgroundcolor\":\"#E5ECF6\",\"gridcolor\":\"white\",\"gridwidth\":2,\"linecolor\":\"white\",\"showbackground\":true,\"ticks\":\"\",\"zerolinecolor\":\"white\"},\"zaxis\":{\"backgroundcolor\":\"#E5ECF6\",\"gridcolor\":\"white\",\"gridwidth\":2,\"linecolor\":\"white\",\"showbackground\":true,\"ticks\":\"\",\"zerolinecolor\":\"white\"}},\"shapedefaults\":{\"line\":{\"color\":\"#2a3f5f\"}},\"ternary\":{\"aaxis\":{\"gridcolor\":\"white\",\"linecolor\":\"white\",\"ticks\":\"\"},\"baxis\":{\"gridcolor\":\"white\",\"linecolor\":\"white\",\"ticks\":\"\"},\"bgcolor\":\"#E5ECF6\",\"caxis\":{\"gridcolor\":\"white\",\"linecolor\":\"white\",\"ticks\":\"\"}},\"title\":{\"x\":0.05},\"xaxis\":{\"automargin\":true,\"gridcolor\":\"white\",\"linecolor\":\"white\",\"ticks\":\"\",\"title\":{\"standoff\":15},\"zerolinecolor\":\"white\",\"zerolinewidth\":2},\"yaxis\":{\"automargin\":true,\"gridcolor\":\"white\",\"linecolor\":\"white\",\"ticks\":\"\",\"title\":{\"standoff\":15},\"zerolinecolor\":\"white\",\"zerolinewidth\":2}}},\"geo\":{\"projection\":{\"type\":\"equirectangular\"},\"showframe\":false,\"showcoastlines\":false},\"width\":950,\"height\":600},                        {\"toImageButtonOptions\": {\"format\": \"png\", \"filename\": \"custom_image\", \"height\": 1200, \"width\": 1900, \"scale\": 1}, \"responsive\": true}                    ).then(function(){\n",
       "                            \n",
       "var gd = document.getElementById('d5cb3c6d-2f22-4d74-80c0-a8ad4149755b');\n",
       "var x = new MutationObserver(function (mutations, observer) {{\n",
       "        var display = window.getComputedStyle(gd).display;\n",
       "        if (!display || display === 'none') {{\n",
       "            console.log([gd, 'removed!']);\n",
       "            Plotly.purge(gd);\n",
       "            observer.disconnect();\n",
       "        }}\n",
       "}});\n",
       "\n",
       "// Listen for the removal of the full notebook cells\n",
       "var notebookContainer = gd.closest('#notebook-container');\n",
       "if (notebookContainer) {{\n",
       "    x.observe(notebookContainer, {childList: true});\n",
       "}}\n",
       "\n",
       "// Listen for the clearing of the current output cell\n",
       "var outputEl = gd.closest('.output');\n",
       "if (outputEl) {{\n",
       "    x.observe(outputEl, {childList: true});\n",
       "}}\n",
       "\n",
       "                        })                };                });            </script>        </div>"
      ]
     },
     "metadata": {},
     "output_type": "display_data"
    }
   ],
   "source": [
    "\n",
    "\n",
    "fig = go.Figure(data=go.Choropleth(\n",
    "    locations = country_stats['CODE'],\n",
    "    z = country_stats['Weighted_Average_Beta'],\n",
    "    text = country_stats['COUNTRY'],\n",
    "    #colorscale = c,\n",
    "    colorscale=[\"rgb(133,87,35)\",\"rgb(242, 238, 237)\", \"rgb(131, 207, 23)\"],\n",
    "    #color_continuous_midpoint=0,\n",
    "    zmid = 0,\n",
    "    autocolorscale=False,\n",
    "    reversescale=True,\n",
    "    marker_line_color='darkgray',\n",
    "    #showscale=False,\n",
    "    marker_line_width=0.8,\n",
    "    colorbar_tickprefix = ''\n",
    "    #colorbar_title = 'Weighted Carbon Beta'\n",
    "))\n",
    "\n",
    "fig.update_layout(\n",
    "    #title_text='Weighted Average Carbon Beta per Country',\n",
    "    width=950, height=600,\n",
    "    geo=dict(\n",
    "        showframe=False,\n",
    "        showcoastlines=False,\n",
    "        projection_type='equirectangular'\n",
    "    )\n",
    "    \n",
    "    #.annotations = [dict(\n",
    "    #    x=0.55,\n",
    "    #    y=0.1,\n",
    "    #    xref='paper',\n",
    "    #    yref='paper',\n",
    "    #    text='Source: <a href=\"https://www.cia.gov/library/publications/the-world-factbook/fields/2195.html\">\\\n",
    "    #        CIA World Factbook</a>',\n",
    "    #    showarrow = False)]\n",
    ")\n",
    "\n",
    "#fig.savefig('test.png',dpi = 400,bbox_inches='tight')\n",
    "\n",
    "fig.show(config=config)"
   ]
  },
  {
   "cell_type": "code",
   "execution_count": 10,
   "id": "9f2a82aa",
   "metadata": {},
   "outputs": [],
   "source": [
    "sector_df = pd.DataFrame()\n",
    "for sector in sector_stats.keys():\n",
    "    weighted_betas = sector_stats[sector][\"Weighted_Beta\"]/np.sum(sector_stats[sector][\"Market_Cap\"])\n",
    "    betas = sector_stats[sector][\"Beta\"]\n",
    "    median_betas = np.median(betas)\n",
    "    mean_betas = np.mean(betas)\n",
    "    median_wbetas = np.median(weighted_betas)\n",
    "    mean_wbetas = np.mean(betas)\n",
    "    n = len(betas)\n",
    "    \n",
    "    temp_df = pd.DataFrame({\n",
    "    \"Beta\":betas,\n",
    "    \"Weighted_Beta\":weighted_betas,\n",
    "    \"Num\":n,\n",
    "    \"Mean_Beta\":mean_betas,\n",
    "    \"Median_Beta\":median_betas,\n",
    "    \"Median_wBeta\":median_wbetas,\n",
    "    \"Mean_wBeta\":mean_wbetas})\n",
    "    \n",
    "    temp_df[\"Sector\"] = sector\n",
    "    sector_df = sector_df.append(temp_df)\n",
    "    \n",
    "# drop sectors with less than 10 firms\n",
    "sector_df = sector_df.drop(sector_df[sector_df.Num < 10].index)\n",
    "sector_df = sector_df.reset_index(drop=True)\n"
   ]
  },
  {
   "cell_type": "code",
   "execution_count": 22,
   "id": "beeb7bf5",
   "metadata": {},
   "outputs": [
    {
     "data": {
      "text/html": [
       "<div>\n",
       "<style scoped>\n",
       "    .dataframe tbody tr th:only-of-type {\n",
       "        vertical-align: middle;\n",
       "    }\n",
       "\n",
       "    .dataframe tbody tr th {\n",
       "        vertical-align: top;\n",
       "    }\n",
       "\n",
       "    .dataframe thead th {\n",
       "        text-align: right;\n",
       "    }\n",
       "</style>\n",
       "<table border=\"1\" class=\"dataframe\">\n",
       "  <thead>\n",
       "    <tr style=\"text-align: right;\">\n",
       "      <th></th>\n",
       "      <th>Beta</th>\n",
       "      <th>Weighted_Beta</th>\n",
       "      <th>Num</th>\n",
       "      <th>Mean_Beta</th>\n",
       "      <th>Median_Beta</th>\n",
       "      <th>Median_wBeta</th>\n",
       "      <th>Mean_wBeta</th>\n",
       "      <th>Sector</th>\n",
       "    </tr>\n",
       "  </thead>\n",
       "  <tbody>\n",
       "    <tr>\n",
       "      <th>0</th>\n",
       "      <td>0.128505</td>\n",
       "      <td>0.000004</td>\n",
       "      <td>305</td>\n",
       "      <td>-0.308631</td>\n",
       "      <td>-0.349787</td>\n",
       "      <td>-0.000107</td>\n",
       "      <td>-0.308631</td>\n",
       "      <td>Consumer Cyclicals</td>\n",
       "    </tr>\n",
       "    <tr>\n",
       "      <th>1</th>\n",
       "      <td>-0.071960</td>\n",
       "      <td>-0.000025</td>\n",
       "      <td>305</td>\n",
       "      <td>-0.308631</td>\n",
       "      <td>-0.349787</td>\n",
       "      <td>-0.000107</td>\n",
       "      <td>-0.308631</td>\n",
       "      <td>Consumer Cyclicals</td>\n",
       "    </tr>\n",
       "    <tr>\n",
       "      <th>2</th>\n",
       "      <td>-0.518279</td>\n",
       "      <td>-0.000116</td>\n",
       "      <td>305</td>\n",
       "      <td>-0.308631</td>\n",
       "      <td>-0.349787</td>\n",
       "      <td>-0.000107</td>\n",
       "      <td>-0.308631</td>\n",
       "      <td>Consumer Cyclicals</td>\n",
       "    </tr>\n",
       "    <tr>\n",
       "      <th>3</th>\n",
       "      <td>-1.040108</td>\n",
       "      <td>-0.001404</td>\n",
       "      <td>305</td>\n",
       "      <td>-0.308631</td>\n",
       "      <td>-0.349787</td>\n",
       "      <td>-0.000107</td>\n",
       "      <td>-0.308631</td>\n",
       "      <td>Consumer Cyclicals</td>\n",
       "    </tr>\n",
       "    <tr>\n",
       "      <th>4</th>\n",
       "      <td>-0.243122</td>\n",
       "      <td>-0.000020</td>\n",
       "      <td>305</td>\n",
       "      <td>-0.308631</td>\n",
       "      <td>-0.349787</td>\n",
       "      <td>-0.000107</td>\n",
       "      <td>-0.308631</td>\n",
       "      <td>Consumer Cyclicals</td>\n",
       "    </tr>\n",
       "    <tr>\n",
       "      <th>...</th>\n",
       "      <td>...</td>\n",
       "      <td>...</td>\n",
       "      <td>...</td>\n",
       "      <td>...</td>\n",
       "      <td>...</td>\n",
       "      <td>...</td>\n",
       "      <td>...</td>\n",
       "      <td>...</td>\n",
       "    </tr>\n",
       "    <tr>\n",
       "      <th>298</th>\n",
       "      <td>-0.416236</td>\n",
       "      <td>-0.001395</td>\n",
       "      <td>305</td>\n",
       "      <td>-0.308631</td>\n",
       "      <td>-0.349787</td>\n",
       "      <td>-0.000107</td>\n",
       "      <td>-0.308631</td>\n",
       "      <td>Consumer Cyclicals</td>\n",
       "    </tr>\n",
       "    <tr>\n",
       "      <th>299</th>\n",
       "      <td>0.324328</td>\n",
       "      <td>0.000194</td>\n",
       "      <td>305</td>\n",
       "      <td>-0.308631</td>\n",
       "      <td>-0.349787</td>\n",
       "      <td>-0.000107</td>\n",
       "      <td>-0.308631</td>\n",
       "      <td>Consumer Cyclicals</td>\n",
       "    </tr>\n",
       "    <tr>\n",
       "      <th>300</th>\n",
       "      <td>-0.453286</td>\n",
       "      <td>-0.000854</td>\n",
       "      <td>305</td>\n",
       "      <td>-0.308631</td>\n",
       "      <td>-0.349787</td>\n",
       "      <td>-0.000107</td>\n",
       "      <td>-0.308631</td>\n",
       "      <td>Consumer Cyclicals</td>\n",
       "    </tr>\n",
       "    <tr>\n",
       "      <th>301</th>\n",
       "      <td>-0.288993</td>\n",
       "      <td>-0.000451</td>\n",
       "      <td>305</td>\n",
       "      <td>-0.308631</td>\n",
       "      <td>-0.349787</td>\n",
       "      <td>-0.000107</td>\n",
       "      <td>-0.308631</td>\n",
       "      <td>Consumer Cyclicals</td>\n",
       "    </tr>\n",
       "    <tr>\n",
       "      <th>302</th>\n",
       "      <td>0.098651</td>\n",
       "      <td>0.000079</td>\n",
       "      <td>305</td>\n",
       "      <td>-0.308631</td>\n",
       "      <td>-0.349787</td>\n",
       "      <td>-0.000107</td>\n",
       "      <td>-0.308631</td>\n",
       "      <td>Consumer Cyclicals</td>\n",
       "    </tr>\n",
       "  </tbody>\n",
       "</table>\n",
       "<p>303 rows × 8 columns</p>\n",
       "</div>"
      ],
      "text/plain": [
       "         Beta  Weighted_Beta  Num  Mean_Beta  Median_Beta  Median_wBeta  \\\n",
       "0    0.128505       0.000004  305  -0.308631    -0.349787     -0.000107   \n",
       "1   -0.071960      -0.000025  305  -0.308631    -0.349787     -0.000107   \n",
       "2   -0.518279      -0.000116  305  -0.308631    -0.349787     -0.000107   \n",
       "3   -1.040108      -0.001404  305  -0.308631    -0.349787     -0.000107   \n",
       "4   -0.243122      -0.000020  305  -0.308631    -0.349787     -0.000107   \n",
       "..        ...            ...  ...        ...          ...           ...   \n",
       "298 -0.416236      -0.001395  305  -0.308631    -0.349787     -0.000107   \n",
       "299  0.324328       0.000194  305  -0.308631    -0.349787     -0.000107   \n",
       "300 -0.453286      -0.000854  305  -0.308631    -0.349787     -0.000107   \n",
       "301 -0.288993      -0.000451  305  -0.308631    -0.349787     -0.000107   \n",
       "302  0.098651       0.000079  305  -0.308631    -0.349787     -0.000107   \n",
       "\n",
       "     Mean_wBeta              Sector  \n",
       "0     -0.308631  Consumer Cyclicals  \n",
       "1     -0.308631  Consumer Cyclicals  \n",
       "2     -0.308631  Consumer Cyclicals  \n",
       "3     -0.308631  Consumer Cyclicals  \n",
       "4     -0.308631  Consumer Cyclicals  \n",
       "..          ...                 ...  \n",
       "298   -0.308631  Consumer Cyclicals  \n",
       "299   -0.308631  Consumer Cyclicals  \n",
       "300   -0.308631  Consumer Cyclicals  \n",
       "301   -0.308631  Consumer Cyclicals  \n",
       "302   -0.308631  Consumer Cyclicals  \n",
       "\n",
       "[303 rows x 8 columns]"
      ]
     },
     "execution_count": 22,
     "metadata": {},
     "output_type": "execute_result"
    }
   ],
   "source": [
    "sector_df[sector_df.Sector == \"Consumer Cyclicals\"]"
   ]
  },
  {
   "cell_type": "code",
   "execution_count": 11,
   "id": "86d48aa5",
   "metadata": {},
   "outputs": [],
   "source": [
    "co2_df = pd.DataFrame()\n",
    "for sector in sector_stats.keys():\n",
    "    co2 = sector_stats[sector][\"CO2\"]\n",
    "    co2score = sector_stats[sector][\"CO2_Score\"]\n",
    "    \n",
    "    temp_df = pd.DataFrame({\n",
    "    \"CO2\":co2,\n",
    "    \"CO2_Score\":co2score})\n",
    "    \n",
    "    temp_df[\"Sector\"] = sector\n",
    "    co2_df = sector_df.append(temp_df)\n",
    "    \n",
    "co2_df = sector_df.reset_index(drop=True)"
   ]
  },
  {
   "cell_type": "code",
   "execution_count": 14,
   "id": "694c9558",
   "metadata": {},
   "outputs": [
    {
     "data": {
      "image/png": "[encoded data removed]",
      "text/plain": [
       "<Figure size 864x720 with 1 Axes>"
      ]
     },
     "metadata": {},
     "output_type": "display_data"
    }
   ],
   "source": [
    "# Get sort by Median\n",
    "from matplotlib import rc\n",
    "import matplotlib as mpl\n",
    "rc('font',**{'family':'serif','serif':['Times New Roman']})\n",
    "rc('text', usetex=True)\n",
    "means_df = sector_df.drop_duplicates(subset=['Median_Beta'])\n",
    "means_df = means_df.sort_values(by ='Median_Beta')\n",
    "sector_sort = list(means_df[\"Sector\"])\n",
    "\n",
    "plt.rcParams['figure.figsize'] = [12, 10]\n",
    "\n",
    "sns.set_theme(style=\"whitegrid\",font_scale = 1.7,font=\"Times New Roman\")\n",
    "ax = sns.boxplot(x=\"Beta\", y=\"Sector\", orient='h', data=sector_df,color=\"lightblue\",width = 0.5,order=sector_sort, showfliers = False, flierprops = dict(markerfacecolor = '0.50', markersize = 1.5))\n",
    "ax.set(xlim=(-3, 3))\n",
    "ax.set(ylabel=None)\n",
    "ax.set(xlabel=\"Carbon Beta\")\n",
    "\n",
    "plt.savefig('sectorbox.png',dpi = 400,bbox_inches='tight')\n",
    "\n",
    "#plt.show()\n",
    "\n"
   ]
  },
  {
   "cell_type": "code",
   "execution_count": null,
   "id": "4f5b109e",
   "metadata": {},
   "outputs": [],
   "source": []
  }
 ],
 "metadata": {
  "kernelspec": {
   "display_name": "Python 3",
   "language": "python",
   "name": "python3"
  },
  "language_info": {
   "codemirror_mode": {
    "name": "ipython",
    "version": 3
   },
   "file_extension": ".py",
   "mimetype": "text/x-python",
   "name": "python",
   "nbconvert_exporter": "python",
   "pygments_lexer": "ipython3",
   "version": "3.8.5"
  }
 },
 "nbformat": 4,
 "nbformat_minor": 5
}
