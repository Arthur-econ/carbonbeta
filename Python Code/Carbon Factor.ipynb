{
 "cells": [
  {
   "cell_type": "code",
   "execution_count": 1,
   "id": "21ca17d2",
   "metadata": {},
   "outputs": [],
   "source": [
    "import pickle\n",
    "import pandas as pd\n",
    "import numpy as np\n",
    "from datetime import datetime\n",
    "from dateutil.relativedelta import relativedelta\n",
    "import warnings\n",
    "warnings.filterwarnings(\"ignore\")\n",
    "import pickle\n",
    "from tqdm.auto import tqdm\n",
    "\n",
    "# define data path\n",
    "with open('data_path.txt') as f:\n",
    "    lines = f.read().splitlines()\n",
    "data_path = lines[0]\n",
    "\n",
    "# load data\n",
    "f = open(data_path+'clean_data.pckl', 'rb')\n",
    "mcdata, keydata, ids, returns, EU_4F, US_4F = pickle.load(f)\n",
    "f.close()"
   ]
  },
  {
   "cell_type": "code",
   "execution_count": 5,
   "id": "0478bc49",
   "metadata": {},
   "outputs": [
    {
     "data": {
      "application/vnd.jupyter.widget-view+json": {
       "model_id": "a78eb2ef56e44354abc3080413f79bf5",
       "version_major": 2,
       "version_minor": 0
      },
      "text/plain": [
       "HBox(children=(HTML(value=''), FloatProgress(value=0.0, max=14.0), HTML(value='')))"
      ]
     },
     "metadata": {},
     "output_type": "display_data"
    },
    {
     "data": {
      "application/vnd.jupyter.widget-view+json": {
       "model_id": "",
       "version_major": 2,
       "version_minor": 0
      },
      "text/plain": [
       "HBox(children=(HTML(value=''), FloatProgress(value=0.0, max=16464.0), HTML(value='')))"
      ]
     },
     "metadata": {},
     "output_type": "display_data"
    },
    {
     "data": {
      "application/vnd.jupyter.widget-view+json": {
       "model_id": "",
       "version_major": 2,
       "version_minor": 0
      },
      "text/plain": [
       "HBox(children=(HTML(value=''), FloatProgress(value=0.0, max=16464.0), HTML(value='')))"
      ]
     },
     "metadata": {},
     "output_type": "display_data"
    },
    {
     "data": {
      "application/vnd.jupyter.widget-view+json": {
       "model_id": "",
       "version_major": 2,
       "version_minor": 0
      },
      "text/plain": [
       "HBox(children=(HTML(value=''), FloatProgress(value=0.0, max=16464.0), HTML(value='')))"
      ]
     },
     "metadata": {},
     "output_type": "display_data"
    },
    {
     "data": {
      "application/vnd.jupyter.widget-view+json": {
       "model_id": "",
       "version_major": 2,
       "version_minor": 0
      },
      "text/plain": [
       "HBox(children=(HTML(value=''), FloatProgress(value=0.0, max=16464.0), HTML(value='')))"
      ]
     },
     "metadata": {},
     "output_type": "display_data"
    },
    {
     "data": {
      "application/vnd.jupyter.widget-view+json": {
       "model_id": "",
       "version_major": 2,
       "version_minor": 0
      },
      "text/plain": [
       "HBox(children=(HTML(value=''), FloatProgress(value=0.0, max=16464.0), HTML(value='')))"
      ]
     },
     "metadata": {},
     "output_type": "display_data"
    },
    {
     "data": {
      "application/vnd.jupyter.widget-view+json": {
       "model_id": "",
       "version_major": 2,
       "version_minor": 0
      },
      "text/plain": [
       "HBox(children=(HTML(value=''), FloatProgress(value=0.0, max=16464.0), HTML(value='')))"
      ]
     },
     "metadata": {},
     "output_type": "display_data"
    },
    {
     "data": {
      "application/vnd.jupyter.widget-view+json": {
       "model_id": "",
       "version_major": 2,
       "version_minor": 0
      },
      "text/plain": [
       "HBox(children=(HTML(value=''), FloatProgress(value=0.0, max=16464.0), HTML(value='')))"
      ]
     },
     "metadata": {},
     "output_type": "display_data"
    },
    {
     "data": {
      "application/vnd.jupyter.widget-view+json": {
       "model_id": "",
       "version_major": 2,
       "version_minor": 0
      },
      "text/plain": [
       "HBox(children=(HTML(value=''), FloatProgress(value=0.0, max=16464.0), HTML(value='')))"
      ]
     },
     "metadata": {},
     "output_type": "display_data"
    },
    {
     "data": {
      "application/vnd.jupyter.widget-view+json": {
       "model_id": "",
       "version_major": 2,
       "version_minor": 0
      },
      "text/plain": [
       "HBox(children=(HTML(value=''), FloatProgress(value=0.0, max=16464.0), HTML(value='')))"
      ]
     },
     "metadata": {},
     "output_type": "display_data"
    },
    {
     "data": {
      "application/vnd.jupyter.widget-view+json": {
       "model_id": "",
       "version_major": 2,
       "version_minor": 0
      },
      "text/plain": [
       "HBox(children=(HTML(value=''), FloatProgress(value=0.0, max=16464.0), HTML(value='')))"
      ]
     },
     "metadata": {},
     "output_type": "display_data"
    },
    {
     "data": {
      "application/vnd.jupyter.widget-view+json": {
       "model_id": "",
       "version_major": 2,
       "version_minor": 0
      },
      "text/plain": [
       "HBox(children=(HTML(value=''), FloatProgress(value=0.0, max=16464.0), HTML(value='')))"
      ]
     },
     "metadata": {},
     "output_type": "display_data"
    },
    {
     "data": {
      "application/vnd.jupyter.widget-view+json": {
       "model_id": "",
       "version_major": 2,
       "version_minor": 0
      },
      "text/plain": [
       "HBox(children=(HTML(value=''), FloatProgress(value=0.0, max=16464.0), HTML(value='')))"
      ]
     },
     "metadata": {},
     "output_type": "display_data"
    },
    {
     "data": {
      "application/vnd.jupyter.widget-view+json": {
       "model_id": "",
       "version_major": 2,
       "version_minor": 0
      },
      "text/plain": [
       "HBox(children=(HTML(value=''), FloatProgress(value=0.0, max=16464.0), HTML(value='')))"
      ]
     },
     "metadata": {},
     "output_type": "display_data"
    },
    {
     "data": {
      "application/vnd.jupyter.widget-view+json": {
       "model_id": "",
       "version_major": 2,
       "version_minor": 0
      },
      "text/plain": [
       "HBox(children=(HTML(value=''), FloatProgress(value=0.0, max=16464.0), HTML(value='')))"
      ]
     },
     "metadata": {},
     "output_type": "display_data"
    },
    {
     "name": "stdout",
     "output_type": "stream",
     "text": [
      "\n"
     ]
    }
   ],
   "source": [
    "# Make list with eligible stocks for a given year\n",
    "# The portfolios, which are constructed at the end of each June, are the intersections of 2 portfolios formed on size (market equity, ME) and 3 portfolios formed on the ratio of book equity to market equity (BE/ME). The size breakpoint for year t is the median NYSE market equity at the end of June of year t. BE/ME for June of year t is the book equity for the last fiscal year end in t-1 divided by ME for December of t-1. The BE/ME breakpoints are the 30th and 70th NYSE percentiles.\n",
    "# http://mba.tuck.dartmouth.edu/pages/faculty/ken.french/Data_Library/six_portfolios.html\n",
    "\n",
    "id_list = ids[ids.Sector != \"Financials\"]\n",
    "id_list = id_list.RIC.unique()\n",
    "\n",
    "# create dict to save dfs\n",
    "valid_dict = {}\n",
    "\n",
    "# Factor calculation from 2007 to 2021 (first portfolio rebalancing June 2007, last June 2020)\n",
    "num_years = 14\n",
    "\n",
    "# takes very long\n",
    "for year_num in tqdm(range(num_years)):\n",
    "    rebalance_date = pd.Timestamp(\"2007-06-30\") + relativedelta(years=year_num)\n",
    "    check_date = pd.Timestamp(\"2006-12-31\") + relativedelta(years=year_num)\n",
    "\n",
    "    valid_df = pd.DataFrame(columns=[\"RIC\",\"MarketCap\",\"TotalCO2\",\"AnalyticCO2\"])\n",
    "    for i in tqdm(id_list,leave=False):\n",
    "        if (i in list(keydata.RIC)) == True:\n",
    "            temp_co2 = keydata[keydata.RIC == i][keydata.Date == check_date][\"TotalCO2\"].item()\n",
    "            temp_mc = mcdata.loc[mcdata.Date == rebalance_date,i].item()\n",
    "            temp_bv = keydata[keydata.RIC == i][keydata.Date == check_date][\"BookValue\"].item()\n",
    "            temp_co2score = keydata[keydata.RIC == i][keydata.Date == check_date][\"AnalyticCO2\"].item()\n",
    "            \n",
    "            # check if Market Cap Data in June_t and December_t-1 is > 100 mill (filter out micro/penny stocks with bad data)\n",
    "            if (temp_mc > 100) & (mcdata.loc[mcdata.Date == check_date,i].item() > 100):\n",
    "                # check if book value in December_t-1 is >1 (sometimes bad 0.001002010 data ...)\n",
    "                if  (temp_bv > 1) and (temp_co2 > 0.1):\n",
    "                    temp_df = pd.DataFrame({\n",
    "                            \"RIC\":[i],\n",
    "                            \"MarketCap\":[temp_mc],\n",
    "                            \"TotalCO2\":[temp_co2],\n",
    "                            \"AnalyticCO2\":[temp_co2score]})\n",
    "                    valid_df = valid_df.append(temp_df)\n",
    "\n",
    "    valid_df = valid_df.reset_index(drop=True)\n",
    "    \n",
    "    # save in dict for this year\n",
    "    valid_dict[rebalance_date] = valid_df\n",
    "    \n",
    "    "
   ]
  },
  {
   "cell_type": "code",
   "execution_count": 18,
   "id": "aebb49af",
   "metadata": {},
   "outputs": [],
   "source": [
    "# Save valid_dict to not run it again\n",
    "f = open(data_path+'valid_dict.pckl', 'wb')\n",
    "pickle.dump(valid_dict, f)\n",
    "f.close()"
   ]
  },
  {
   "cell_type": "code",
   "execution_count": 3,
   "id": "e8b8b792",
   "metadata": {},
   "outputs": [],
   "source": [
    "# load valid_dict\n",
    "f = open(data_path+'valid_dict.pckl', 'rb')\n",
    "valid_dict = pickle.load(f)\n",
    "f.close()"
   ]
  },
  {
   "cell_type": "code",
   "execution_count": 4,
   "id": "1e8475c6",
   "metadata": {},
   "outputs": [],
   "source": [
    "# Create flags\n",
    "num_years = 14\n",
    "for year_num in range(num_years):\n",
    "    rebalance_date = pd.Timestamp(\"2007-06-30\") + relativedelta(years=year_num)\n",
    "\n",
    "    valid_df = valid_dict[rebalance_date]\n",
    "    \n",
    "    \n",
    "    # Small/Big flags calculated determined by median market cap\n",
    "    median_mc = np.median(valid_df.MarketCap)\n",
    "    valid_df[\"small_flag\"] = np.where(valid_df[\"MarketCap\"]<= median_mc,1,0)\n",
    "    valid_df[\"big_flag\"] = np.where(valid_df[\"MarketCap\"]> median_mc,1,0)\n",
    "    \n",
    "    # co2 score terciles\n",
    "    co2_30 = np.percentile(valid_df[\"AnalyticCO2\"],30)\n",
    "    co2_70 = np.percentile(valid_df[\"AnalyticCO2\"],70)\n",
    "    valid_df[\"brown_flag\"] = np.where(valid_df[\"AnalyticCO2\"]> co2_70,1,0)\n",
    "    valid_df[\"green_flag\"] = np.where(valid_df[\"AnalyticCO2\"]< co2_30,1,0)\n",
    "    valid_df[\"neutral_flag\"] = np.where((valid_df[\"AnalyticCO2\"]<= co2_70) & (valid_df[\"AnalyticCO2\"] >= co2_30),1,0)\n",
    "\n",
    "    # co2 score quintiles\n",
    "    co2_20 = np.percentile(valid_df[\"AnalyticCO2\"],20)\n",
    "    co2_40 = np.percentile(valid_df[\"AnalyticCO2\"],40)\n",
    "    co2_60 = np.percentile(valid_df[\"AnalyticCO2\"],60)    \n",
    "    co2_80 = np.percentile(valid_df[\"AnalyticCO2\"],80)\n",
    "    valid_df[\"q20\"] = np.where(valid_df[\"AnalyticCO2\"]<= co2_20,1,0)\n",
    "    valid_df[\"q40\"] = np.where((valid_df[\"AnalyticCO2\"]<= co2_40) & (valid_df[\"AnalyticCO2\"] > co2_20),1,0)\n",
    "    valid_df[\"q60\"] = np.where((valid_df[\"AnalyticCO2\"]<= co2_60) & (valid_df[\"AnalyticCO2\"] > co2_40),1,0)\n",
    "    valid_df[\"q80\"] = np.where((valid_df[\"AnalyticCO2\"]< co2_80) & (valid_df[\"AnalyticCO2\"] > co2_60),1,0)\n",
    "    valid_df[\"q100\"] = np.where(valid_df[\"AnalyticCO2\"]>= co2_80,1,0)\n"
   ]
  },
  {
   "cell_type": "code",
   "execution_count": 5,
   "id": "2ec3480a",
   "metadata": {
    "scrolled": false
   },
   "outputs": [
    {
     "data": {
      "application/vnd.jupyter.widget-view+json": {
       "model_id": "48724aa781c747e2a8dd0a75b22d52c7",
       "version_major": 2,
       "version_minor": 0
      },
      "text/plain": [
       "HBox(children=(HTML(value=''), FloatProgress(value=0.0, max=14.0), HTML(value='')))"
      ]
     },
     "metadata": {},
     "output_type": "display_data"
    },
    {
     "name": "stdout",
     "output_type": "stream",
     "text": [
      "\n"
     ]
    }
   ],
   "source": [
    "###### Average Monthly Return ############\n",
    "portfolio_names = [\"Small_Green\",\"Small_Neutral\",\"Small_Brown\",\"Big_Green\",\"Big_Neutral\",\"Big_Brown\",\"Q20\",\"Q40\",\"Q60\",\"Q80\",\"Q100\"]\n",
    "column_names = portfolio_names.copy()\n",
    "column_names.insert(0,\"Date\")\n",
    "equal_portfolio_returns = pd.DataFrame(columns=column_names)\n",
    "equal_portfolio_returns[\"Date\"] = mcdata[\"Date\"]\n",
    "value_portfolio_returns = equal_portfolio_returns.copy()\n",
    "\n",
    "for rebalance_date in tqdm(valid_dict.keys()):\n",
    "    valid_df = valid_dict[rebalance_date]\n",
    "    \n",
    "    # Make stock lists for portfolios\n",
    "    small_brown_list = list(valid_df[valid_df.small_flag == 1][valid_df.brown_flag == 1][\"RIC\"])\n",
    "    small_neutral_list = list(valid_df[valid_df.small_flag == 1][valid_df.neutral_flag == 1][\"RIC\"])\n",
    "    small_green_list = list(valid_df[valid_df.small_flag == 1][valid_df.green_flag == 1][\"RIC\"])\n",
    "    big_brown_list = list(valid_df[valid_df.big_flag == 1][valid_df.brown_flag == 1][\"RIC\"])\n",
    "    big_neutral_list = list(valid_df[valid_df.big_flag == 1][valid_df.neutral_flag == 1][\"RIC\"])\n",
    "    big_green_list = list(valid_df[valid_df.big_flag == 1][valid_df.green_flag == 1][\"RIC\"])\n",
    "    \n",
    "    #quintile portfolios\n",
    "    q20_list = list(valid_df[valid_df.q20 == 1][\"RIC\"])\n",
    "    q40_list = list(valid_df[valid_df.q40 == 1][\"RIC\"])\n",
    "    q60_list = list(valid_df[valid_df.q60 == 1][\"RIC\"])\n",
    "    q80_list = list(valid_df[valid_df.q80 == 1][\"RIC\"])\n",
    "    q100_list = list(valid_df[valid_df.q100 == 1][\"RIC\"])\n",
    "    \n",
    "    portfolio_list = [small_green_list,small_neutral_list,small_brown_list,big_green_list,big_neutral_list,big_brown_list,q20_list,q40_list,q60_list,q80_list,q100_list]\n",
    "\n",
    "\n",
    "    start_index = mcdata[mcdata.Date == rebalance_date].index.item()+1\n",
    "    for mon_date in list(mcdata.loc[start_index:start_index+11,\"Date\"]):\n",
    "        return_date_index = returns[returns.Date == mon_date].index.item()\n",
    "        mc_data_index = mcdata[mcdata.Date == mon_date].index.item()\n",
    "\n",
    "        iter = 0\n",
    "        for portfolio in portfolio_list:\n",
    "            return_sum = 0\n",
    "            mc_sum = 0\n",
    "            num_stocks = 0\n",
    "            value_return_sum = 0\n",
    "            port_name = portfolio_names[iter]\n",
    "            iter += 1\n",
    "\n",
    "            for stock in portfolio:\n",
    "                mon_return = returns.loc[return_date_index,stock]\n",
    "                last_6_months = list(returns.loc[return_date_index-6:return_date_index,stock])\n",
    "                last_months_check = any((i <= 0.01) & (i >= (-0.01)) for i in last_6_months)== False\n",
    "                mon_mc = mcdata.loc[mc_data_index,stock]\n",
    "                # filter for data errors\n",
    "                if ((-0.01 > mon_return) or (mon_return > 0.01)) and (mon_return < 200) and (mon_return > -99) and last_months_check and (mon_mc > 100):\n",
    "                    # value weighted returns:\n",
    "                    value_return_sum += mon_return * mon_mc\n",
    "                    # equal weighted returns:\n",
    "                    return_sum += mon_return\n",
    "                    # market cap sum\n",
    "                    mc_sum += mon_mc\n",
    "                    # num of stocks\n",
    "                    num_stocks += 1\n",
    "\n",
    "            value_average_return = value_return_sum/mc_sum\n",
    "            equal_average_return = return_sum/num_stocks\n",
    "            value_portfolio_returns.loc[mc_data_index,port_name] = value_average_return\n",
    "            equal_portfolio_returns.loc[mc_data_index,port_name] = equal_average_return\n",
    "\n"
   ]
  },
  {
   "cell_type": "code",
   "execution_count": 6,
   "id": "b63dd09a",
   "metadata": {},
   "outputs": [],
   "source": [
    "# Brown Minus Green Factor (following FF HML factor logic)\n",
    "# Average return of a portoflio that is long brown stocks and short green stocks\n",
    "# (1/2) * (Small_Brown + Big_Brown) - (1/2) * (Small_Green + Big_Green)\n",
    "#value_portfolio_returns[\"BMG\"] = 0.5 * (value_portfolio_returns[\"Small_Brown\"] + value_portfolio_returns[\"Big_Brown\"]) - 0.5 * (value_portfolio_returns[\"Small_Green\"] + value_portfolio_returns[\"Big_Green\"])\n",
    "#equal_portfolio_returns[\"BMG\"] = 0.5 * (equal_portfolio_returns[\"Small_Brown\"] + equal_portfolio_returns[\"Big_Brown\"]) - 0.5 * (equal_portfolio_returns[\"Small_Green\"] + equal_portfolio_returns[\"Big_Green\"])\n",
    "\n",
    "# Own Factor calculation\n",
    "value_portfolio_returns[\"BMG\"] = 0.5 * (value_portfolio_returns[\"Q100\"] + value_portfolio_returns[\"Q80\"]) - 0.5 * (value_portfolio_returns[\"Q20\"] + value_portfolio_returns[\"Q40\"])\n",
    "equal_portfolio_returns[\"BMG\"] = 0.5 * (equal_portfolio_returns[\"Q100\"] + equal_portfolio_returns[\"Q80\"]) - 0.5 * (equal_portfolio_returns[\"Q20\"] + equal_portfolio_returns[\"Q40\"])\n",
    "\n",
    "# Test\n",
    "value_portfolio_returns[\"BMG2\"] = 0.5 * (value_portfolio_returns[\"Small_Brown\"] + value_portfolio_returns[\"Big_Brown\"]) - 0.5 * (value_portfolio_returns[\"Small_Green\"] + value_portfolio_returns[\"Big_Green\"])\n",
    "\n",
    "\n",
    "value_portfolio_returns = value_portfolio_returns.loc[19:186]\n",
    "equal_portfolio_returns = equal_portfolio_returns.loc[19:186]\n",
    "value_portfolio_returns = value_portfolio_returns.reset_index(drop=True)\n",
    "equal_portfolio_returns = equal_portfolio_returns.reset_index(drop=True)\n",
    "\n",
    "bmg_factors_value = value_portfolio_returns.copy()\n",
    "bmg_factors_equal = equal_portfolio_returns.copy()\n"
   ]
  },
  {
   "cell_type": "code",
   "execution_count": 7,
   "id": "bb7a3384",
   "metadata": {},
   "outputs": [],
   "source": [
    "# Save Data for use in other files\n",
    "f = open(data_path+'bmg.pckl', 'wb')\n",
    "pickle.dump([bmg_factors_value,bmg_factors_equal,valid_dict], f)\n",
    "f.close()"
   ]
  }
 ],
 "metadata": {
  "kernelspec": {
   "display_name": "Python 3",
   "language": "python",
   "name": "python3"
  },
  "language_info": {
   "codemirror_mode": {
    "name": "ipython",
    "version": 3
   },
   "file_extension": ".py",
   "mimetype": "text/x-python",
   "name": "python",
   "nbconvert_exporter": "python",
   "pygments_lexer": "ipython3",
   "version": "3.8.5"
  }
 },
 "nbformat": 4,
 "nbformat_minor": 5
}
