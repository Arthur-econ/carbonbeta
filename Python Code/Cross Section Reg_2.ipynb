{
 "cells": [
  {
   "cell_type": "code",
   "execution_count": 2,
   "id": "25a22540",
   "metadata": {},
   "outputs": [],
   "source": [
    "import pickle\n",
    "import pandas as pd\n",
    "import numpy as np\n",
    "from datetime import datetime\n",
    "from dateutil.relativedelta import relativedelta\n",
    "import warnings\n",
    "warnings.filterwarnings(\"ignore\")\n",
    "from tqdm.auto import tqdm\n",
    "import pingouin as pg\n",
    "from functools import reduce\n",
    "from scipy.stats.mstats import winsorize\n",
    "\n",
    "import datetime\n",
    "def last_day_of_month(any_day):\n",
    "    # this will never fail\n",
    "    # get close to the end of the month for any day, and add 4 days 'over'\n",
    "    next_month = any_day.replace(day=28) + datetime.timedelta(days=4)\n",
    "    # subtract the number of remaining 'overage' days to get last day of current month, or said programattically said, the previous day of the first of next month\n",
    "    return next_month - datetime.timedelta(days=next_month.day)\n",
    "\n",
    "# define data path\n",
    "with open('data_path.txt') as f:\n",
    "    lines = f.read().splitlines()\n",
    "data_path = lines[0]\n",
    "\n",
    "# load key data\n",
    "f = open(data_path+'clean_data.pckl', 'rb')\n",
    "mcdata, keydata, ids, returns, EU_4F, US_4F = pickle.load(f)\n",
    "f.close()\n",
    "\n",
    "# load betas\n",
    "f = open(data_path+'betas.pckl', 'rb')\n",
    "betas_onlyMkt, betas_4FBMG, betas_4F, betas_onlyBMG, betas_onlyBMG2, all_sample, bmg_sample = pickle.load(f)\n",
    "f.close()\n",
    "\n",
    "# load bmg data\n",
    "f = open(data_path+'bmg.pckl', 'rb')\n",
    "bmg_factors_value, bmg_factors_equal, valid_dict = pickle.load(f)\n",
    "f.close()\n",
    "\n",
    "\n"
   ]
  },
  {
   "cell_type": "code",
   "execution_count": 3,
   "id": "9ec3c236",
   "metadata": {},
   "outputs": [],
   "source": [
    "### Define time period here ######\n",
    "#end_date = pd.Timestamp(\"2021-06-30\")\n",
    "end_date = pd.Timestamp(\"2019-12-31\")\n",
    "latest_index = returns[returns.Date == end_date].index.item()\n",
    "\n",
    "# determine valid series of returns and start_date\n",
    "earliest_start_date = pd.Timestamp(\"2009-01-31\")\n",
    "earliest_index = returns[returns.Date == earliest_start_date].index.item()\n",
    "\n",
    "dates_list = returns.loc[earliest_index:latest_index,\"Date\"]\n",
    "\n",
    "cs_dict = {}"
   ]
  },
  {
   "cell_type": "code",
   "execution_count": 4,
   "id": "c4dde32e",
   "metadata": {},
   "outputs": [
    {
     "data": {
      "application/vnd.jupyter.widget-view+json": {
       "model_id": "2f4d820d982b4376bc7ad62030d383ba",
       "version_major": 2,
       "version_minor": 0
      },
      "text/plain": [
       "HBox(children=(HTML(value=''), FloatProgress(value=0.0, max=132.0), HTML(value='')))"
      ]
     },
     "metadata": {},
     "output_type": "display_data"
    },
    {
     "data": {
      "application/vnd.jupyter.widget-view+json": {
       "model_id": "efc3da46ffb04f8996b1df0f492a2507",
       "version_major": 2,
       "version_minor": 0
      },
      "text/plain": [
       "HBox(children=(HTML(value=''), FloatProgress(value=0.0, max=1709.0), HTML(value='')))"
      ]
     },
     "metadata": {},
     "output_type": "display_data"
    },
    {
     "name": "stdout",
     "output_type": "stream",
     "text": [
      "\n"
     ]
    },
    {
     "ename": "KeyboardInterrupt",
     "evalue": "",
     "output_type": "error",
     "traceback": [
      "\u001b[0;31m---------------------------------------------------------------------------\u001b[0m",
      "\u001b[0;31mKeyboardInterrupt\u001b[0m                         Traceback (most recent call last)",
      "\u001b[0;32m<ipython-input-4-01af037da4ce>\u001b[0m in \u001b[0;36m<module>\u001b[0;34m\u001b[0m\n\u001b[1;32m     43\u001b[0m \u001b[0;34m\u001b[0m\u001b[0m\n\u001b[1;32m     44\u001b[0m         \u001b[0;31m# co2 score\u001b[0m\u001b[0;34m\u001b[0m\u001b[0;34m\u001b[0m\u001b[0;34m\u001b[0m\u001b[0m\n\u001b[0;32m---> 45\u001b[0;31m         \u001b[0mco2_score\u001b[0m \u001b[0;34m=\u001b[0m \u001b[0mkeydata\u001b[0m\u001b[0;34m[\u001b[0m\u001b[0mkeydata\u001b[0m\u001b[0;34m.\u001b[0m\u001b[0mDate\u001b[0m \u001b[0;34m==\u001b[0m \u001b[0mkey_stamp\u001b[0m\u001b[0;34m]\u001b[0m\u001b[0;34m[\u001b[0m\u001b[0mkeydata\u001b[0m\u001b[0;34m.\u001b[0m\u001b[0mRIC\u001b[0m \u001b[0;34m==\u001b[0m \u001b[0mstock\u001b[0m\u001b[0;34m]\u001b[0m\u001b[0;34m[\u001b[0m\u001b[0;34m\"AnalyticCO2\"\u001b[0m\u001b[0;34m]\u001b[0m\u001b[0;34m.\u001b[0m\u001b[0mitem\u001b[0m\u001b[0;34m(\u001b[0m\u001b[0;34m)\u001b[0m\u001b[0;34m\u001b[0m\u001b[0;34m\u001b[0m\u001b[0m\n\u001b[0m\u001b[1;32m     46\u001b[0m         \u001b[0;32mif\u001b[0m \u001b[0mco2_score\u001b[0m \u001b[0;34m<=\u001b[0m \u001b[0;36m0\u001b[0m\u001b[0;34m:\u001b[0m\u001b[0;34m\u001b[0m\u001b[0;34m\u001b[0m\u001b[0m\n\u001b[1;32m     47\u001b[0m             \u001b[0;32mcontinue\u001b[0m\u001b[0;34m\u001b[0m\u001b[0;34m\u001b[0m\u001b[0m\n",
      "\u001b[0;32m~/opt/miniconda3/lib/python3.8/site-packages/pandas/core/ops/common.py\u001b[0m in \u001b[0;36mnew_method\u001b[0;34m(self, other)\u001b[0m\n\u001b[1;32m     63\u001b[0m         \u001b[0mother\u001b[0m \u001b[0;34m=\u001b[0m \u001b[0mitem_from_zerodim\u001b[0m\u001b[0;34m(\u001b[0m\u001b[0mother\u001b[0m\u001b[0;34m)\u001b[0m\u001b[0;34m\u001b[0m\u001b[0;34m\u001b[0m\u001b[0m\n\u001b[1;32m     64\u001b[0m \u001b[0;34m\u001b[0m\u001b[0m\n\u001b[0;32m---> 65\u001b[0;31m         \u001b[0;32mreturn\u001b[0m \u001b[0mmethod\u001b[0m\u001b[0;34m(\u001b[0m\u001b[0mself\u001b[0m\u001b[0;34m,\u001b[0m \u001b[0mother\u001b[0m\u001b[0;34m)\u001b[0m\u001b[0;34m\u001b[0m\u001b[0;34m\u001b[0m\u001b[0m\n\u001b[0m\u001b[1;32m     66\u001b[0m \u001b[0;34m\u001b[0m\u001b[0m\n\u001b[1;32m     67\u001b[0m     \u001b[0;32mreturn\u001b[0m \u001b[0mnew_method\u001b[0m\u001b[0;34m\u001b[0m\u001b[0;34m\u001b[0m\u001b[0m\n",
      "\u001b[0;32m~/opt/miniconda3/lib/python3.8/site-packages/pandas/core/arraylike.py\u001b[0m in \u001b[0;36m__eq__\u001b[0;34m(self, other)\u001b[0m\n\u001b[1;32m     27\u001b[0m     \u001b[0;34m@\u001b[0m\u001b[0munpack_zerodim_and_defer\u001b[0m\u001b[0;34m(\u001b[0m\u001b[0;34m\"__eq__\"\u001b[0m\u001b[0;34m)\u001b[0m\u001b[0;34m\u001b[0m\u001b[0;34m\u001b[0m\u001b[0m\n\u001b[1;32m     28\u001b[0m     \u001b[0;32mdef\u001b[0m \u001b[0m__eq__\u001b[0m\u001b[0;34m(\u001b[0m\u001b[0mself\u001b[0m\u001b[0;34m,\u001b[0m \u001b[0mother\u001b[0m\u001b[0;34m)\u001b[0m\u001b[0;34m:\u001b[0m\u001b[0;34m\u001b[0m\u001b[0;34m\u001b[0m\u001b[0m\n\u001b[0;32m---> 29\u001b[0;31m         \u001b[0;32mreturn\u001b[0m \u001b[0mself\u001b[0m\u001b[0;34m.\u001b[0m\u001b[0m_cmp_method\u001b[0m\u001b[0;34m(\u001b[0m\u001b[0mother\u001b[0m\u001b[0;34m,\u001b[0m \u001b[0moperator\u001b[0m\u001b[0;34m.\u001b[0m\u001b[0meq\u001b[0m\u001b[0;34m)\u001b[0m\u001b[0;34m\u001b[0m\u001b[0;34m\u001b[0m\u001b[0m\n\u001b[0m\u001b[1;32m     30\u001b[0m \u001b[0;34m\u001b[0m\u001b[0m\n\u001b[1;32m     31\u001b[0m     \u001b[0;34m@\u001b[0m\u001b[0munpack_zerodim_and_defer\u001b[0m\u001b[0;34m(\u001b[0m\u001b[0;34m\"__ne__\"\u001b[0m\u001b[0;34m)\u001b[0m\u001b[0;34m\u001b[0m\u001b[0;34m\u001b[0m\u001b[0m\n",
      "\u001b[0;32m~/opt/miniconda3/lib/python3.8/site-packages/pandas/core/series.py\u001b[0m in \u001b[0;36m_cmp_method\u001b[0;34m(self, other, op)\u001b[0m\n\u001b[1;32m   4976\u001b[0m         \u001b[0mrvalues\u001b[0m \u001b[0;34m=\u001b[0m \u001b[0mextract_array\u001b[0m\u001b[0;34m(\u001b[0m\u001b[0mother\u001b[0m\u001b[0;34m,\u001b[0m \u001b[0mextract_numpy\u001b[0m\u001b[0;34m=\u001b[0m\u001b[0;32mTrue\u001b[0m\u001b[0;34m)\u001b[0m\u001b[0;34m\u001b[0m\u001b[0;34m\u001b[0m\u001b[0m\n\u001b[1;32m   4977\u001b[0m \u001b[0;34m\u001b[0m\u001b[0m\n\u001b[0;32m-> 4978\u001b[0;31m         \u001b[0mres_values\u001b[0m \u001b[0;34m=\u001b[0m \u001b[0mops\u001b[0m\u001b[0;34m.\u001b[0m\u001b[0mcomparison_op\u001b[0m\u001b[0;34m(\u001b[0m\u001b[0mlvalues\u001b[0m\u001b[0;34m,\u001b[0m \u001b[0mrvalues\u001b[0m\u001b[0;34m,\u001b[0m \u001b[0mop\u001b[0m\u001b[0;34m)\u001b[0m\u001b[0;34m\u001b[0m\u001b[0;34m\u001b[0m\u001b[0m\n\u001b[0m\u001b[1;32m   4979\u001b[0m \u001b[0;34m\u001b[0m\u001b[0m\n\u001b[1;32m   4980\u001b[0m         \u001b[0;32mreturn\u001b[0m \u001b[0mself\u001b[0m\u001b[0;34m.\u001b[0m\u001b[0m_construct_result\u001b[0m\u001b[0;34m(\u001b[0m\u001b[0mres_values\u001b[0m\u001b[0;34m,\u001b[0m \u001b[0mname\u001b[0m\u001b[0;34m=\u001b[0m\u001b[0mres_name\u001b[0m\u001b[0;34m)\u001b[0m\u001b[0;34m\u001b[0m\u001b[0;34m\u001b[0m\u001b[0m\n",
      "\u001b[0;32m~/opt/miniconda3/lib/python3.8/site-packages/pandas/core/ops/array_ops.py\u001b[0m in \u001b[0;36mcomparison_op\u001b[0;34m(left, right, op)\u001b[0m\n\u001b[1;32m    241\u001b[0m \u001b[0;34m\u001b[0m\u001b[0m\n\u001b[1;32m    242\u001b[0m     \u001b[0;32melif\u001b[0m \u001b[0mis_object_dtype\u001b[0m\u001b[0;34m(\u001b[0m\u001b[0mlvalues\u001b[0m\u001b[0;34m.\u001b[0m\u001b[0mdtype\u001b[0m\u001b[0;34m)\u001b[0m\u001b[0;34m:\u001b[0m\u001b[0;34m\u001b[0m\u001b[0;34m\u001b[0m\u001b[0m\n\u001b[0;32m--> 243\u001b[0;31m         \u001b[0mres_values\u001b[0m \u001b[0;34m=\u001b[0m \u001b[0mcomp_method_OBJECT_ARRAY\u001b[0m\u001b[0;34m(\u001b[0m\u001b[0mop\u001b[0m\u001b[0;34m,\u001b[0m \u001b[0mlvalues\u001b[0m\u001b[0;34m,\u001b[0m \u001b[0mrvalues\u001b[0m\u001b[0;34m)\u001b[0m\u001b[0;34m\u001b[0m\u001b[0;34m\u001b[0m\u001b[0m\n\u001b[0m\u001b[1;32m    244\u001b[0m \u001b[0;34m\u001b[0m\u001b[0m\n\u001b[1;32m    245\u001b[0m     \u001b[0;32melse\u001b[0m\u001b[0;34m:\u001b[0m\u001b[0;34m\u001b[0m\u001b[0;34m\u001b[0m\u001b[0m\n",
      "\u001b[0;32m~/opt/miniconda3/lib/python3.8/site-packages/pandas/core/ops/array_ops.py\u001b[0m in \u001b[0;36mcomp_method_OBJECT_ARRAY\u001b[0;34m(op, x, y)\u001b[0m\n\u001b[1;32m     53\u001b[0m         \u001b[0mresult\u001b[0m \u001b[0;34m=\u001b[0m \u001b[0mlibops\u001b[0m\u001b[0;34m.\u001b[0m\u001b[0mvec_compare\u001b[0m\u001b[0;34m(\u001b[0m\u001b[0mx\u001b[0m\u001b[0;34m.\u001b[0m\u001b[0mravel\u001b[0m\u001b[0;34m(\u001b[0m\u001b[0;34m)\u001b[0m\u001b[0;34m,\u001b[0m \u001b[0my\u001b[0m\u001b[0;34m.\u001b[0m\u001b[0mravel\u001b[0m\u001b[0;34m(\u001b[0m\u001b[0;34m)\u001b[0m\u001b[0;34m,\u001b[0m \u001b[0mop\u001b[0m\u001b[0;34m)\u001b[0m\u001b[0;34m\u001b[0m\u001b[0;34m\u001b[0m\u001b[0m\n\u001b[1;32m     54\u001b[0m     \u001b[0;32melse\u001b[0m\u001b[0;34m:\u001b[0m\u001b[0;34m\u001b[0m\u001b[0;34m\u001b[0m\u001b[0m\n\u001b[0;32m---> 55\u001b[0;31m         \u001b[0mresult\u001b[0m \u001b[0;34m=\u001b[0m \u001b[0mlibops\u001b[0m\u001b[0;34m.\u001b[0m\u001b[0mscalar_compare\u001b[0m\u001b[0;34m(\u001b[0m\u001b[0mx\u001b[0m\u001b[0;34m.\u001b[0m\u001b[0mravel\u001b[0m\u001b[0;34m(\u001b[0m\u001b[0;34m)\u001b[0m\u001b[0;34m,\u001b[0m \u001b[0my\u001b[0m\u001b[0;34m,\u001b[0m \u001b[0mop\u001b[0m\u001b[0;34m)\u001b[0m\u001b[0;34m\u001b[0m\u001b[0;34m\u001b[0m\u001b[0m\n\u001b[0m\u001b[1;32m     56\u001b[0m     \u001b[0;32mreturn\u001b[0m \u001b[0mresult\u001b[0m\u001b[0;34m.\u001b[0m\u001b[0mreshape\u001b[0m\u001b[0;34m(\u001b[0m\u001b[0mx\u001b[0m\u001b[0;34m.\u001b[0m\u001b[0mshape\u001b[0m\u001b[0;34m)\u001b[0m\u001b[0;34m\u001b[0m\u001b[0;34m\u001b[0m\u001b[0m\n\u001b[1;32m     57\u001b[0m \u001b[0;34m\u001b[0m\u001b[0m\n",
      "\u001b[0;31mKeyboardInterrupt\u001b[0m: "
     ]
    }
   ],
   "source": [
    "# Fama MacBeth Second Step Regression for Cross Section Returns\n",
    "# build matrices with return and betas for every month\n",
    "for date in tqdm(dates_list):\n",
    "    # compute date specific variables\n",
    "    return_index = returns[returns.Date == date].index.item()\n",
    "    key_year = date.year-1\n",
    "    key_stamp = pd.Timestamp(str(key_year)+\"-12-31\")\n",
    "    mc_date = date - relativedelta(months=1)\n",
    "    mc_date = last_day_of_month(mc_date)\n",
    "    \n",
    "    \n",
    "    \n",
    "    cs_df = pd.DataFrame(columns=[\"RIC\",\"Return\",\"Mkt\",\"BMG\",\"BMG2\",\"log_bm\",\"log_size\",\"mom\",\"log_co2score\"])\n",
    "    for stock in tqdm(bmg_sample,leave=False):\n",
    "        \n",
    "        # return\n",
    "        #tmp_return = returns[returns.Date == date][stock].item()\n",
    "        tmp_return = returns.loc[return_index,stock].item()\n",
    "        \n",
    "        zero_check = (-0.001 > tmp_return) or (tmp_return > 0.001)\n",
    "        if zero_check == False:\n",
    "            continue\n",
    "        \n",
    "        # RF\n",
    "        #if ids[ids.RIC == stock][\"Country\"].item() == \"USA\":\n",
    "        #    rf_column = \"RiskfreeUS\"\n",
    "        #    factors = US_4F.copy()\n",
    "        #else:\n",
    "        #    rf_column = \"RiskfreeEU\"\n",
    "        #    factors = EU_4F.copy()\n",
    "        \n",
    "        #temp_rf = returns[returns.Date == date][rf_column].item()\n",
    "        \n",
    "        # excess return\n",
    "        #tmp_return = tmp_return\n",
    "        \n",
    "        \n",
    "        # value control: book to market\n",
    "        temp_bm = keydata[keydata.Date == key_stamp][keydata.RIC == stock][\"BtoM\"].item()\n",
    "        if temp_bm <= 0:\n",
    "            continue\n",
    "        log_bm = np.log(temp_bm)\n",
    "        \n",
    "        # co2 score\n",
    "        co2_score = keydata[keydata.Date == key_stamp][keydata.RIC == stock][\"AnalyticCO2\"].item()\n",
    "        if co2_score <= 0:\n",
    "            continue\n",
    "        log_co2score = np.log(co2_score)\n",
    "        \n",
    "        # size control: market cap lagged one month\n",
    "        temp_mc = mcdata[mcdata.Date == mc_date][stock].item()\n",
    "        if temp_mc <= 0:\n",
    "            continue\n",
    "        log_size = np.log(temp_mc)\n",
    "        \n",
    "        ### betas\n",
    "        \n",
    "        ## non-rolling betas:\n",
    "        #linreg = betas_onlyBMG[stock]\n",
    "        #bmg_beta = linreg[linreg.names == \"BMG\"][\"coef\"].item()\n",
    "        #mkt_beta = linreg[linreg.names == \"Mkt-RF\"][\"coef\"].item()\n",
    "        \n",
    "        #BMG2 Test\n",
    "        #linreg = betas_onlyBMG2[stock]\n",
    "        #bmg2_beta = linreg[linreg.names == \"BMG2\"][\"coef\"].item()\n",
    "        #mkt2_beta = linreg[linreg.names == \"Mkt-RF\"][\"coef\"].item()\n",
    "        \n",
    "        # Only Market Beta\n",
    "        linreg = betas_onlyMkt[stock]\n",
    "        mkt_beta = linreg[linreg.names == \"Mkt-RF\"][\"coef\"].item()\n",
    "        \n",
    "\n",
    "\n",
    "        # momentum control (raw return from months -12 to -1)\n",
    "        return_series = returns.loc[return_index-12:return_index-1][stock]\n",
    "        return_series = 1+(return_series/100)\n",
    "        mom_return = list(return_series.cumprod())[-1]-1\n",
    "        log_mom = np.log(1+mom_return)\n",
    "\n",
    "        temp_df = pd.DataFrame({\n",
    "        \"RIC\":[stock],\n",
    "        \"Return\":[tmp_return],\n",
    "        #\"Rf\":[temp_rf],\n",
    "        \"Mkt\":[mkt_beta],\n",
    "        \"log_bm\":[log_bm],\n",
    "        \"log_size\":[log_size],\n",
    "        \"mom\":[mom_return],\n",
    "        \"logmom\":[log_mom],\n",
    "        #\"BMG\":[bmg_beta],\n",
    "        \"log_co2score\":[log_co2score]\n",
    "        #\"Mkt2\":[mkt2_beta],\n",
    "        #\"BMG2\":[bmg2_beta]\n",
    "        })\n",
    "        \n",
    "        cs_df = cs_df.append(temp_df)\n",
    "        \n",
    "    cs_df = cs_df.reset_index(drop=True)    \n",
    "    cs_dict[date] = cs_df\n",
    "        "
   ]
  },
  {
   "cell_type": "code",
   "execution_count": 15,
   "id": "3d352b89",
   "metadata": {},
   "outputs": [],
   "source": [
    "# Save csdict to not rerun everything\n",
    "f = open(data_path+'cs_dict.pckl', 'wb')\n",
    "pickle.dump(cs_dict, f)\n",
    "f.close()"
   ]
  },
  {
   "cell_type": "code",
   "execution_count": 39,
   "id": "4681e5cd",
   "metadata": {},
   "outputs": [],
   "source": [
    "# load cs_dict (can skip big block before)\n",
    "f = open(data_path+'cs_dict.pckl', 'rb')\n",
    "cs_dict = pickle.load(f)\n",
    "f.close()"
   ]
  },
  {
   "cell_type": "code",
   "execution_count": 40,
   "id": "24e0ed64",
   "metadata": {},
   "outputs": [],
   "source": [
    "# Cross Section Regressions\n",
    "\n",
    "\n",
    "lambdas_BMG = {}\n",
    "lambdas_co2 = {}\n",
    "lambdas_BMG2 = {}\n",
    "\n",
    "# regress all asset returns for each of T time periods against the previously estimated betas to determine the risk premium for each factor (lambda)\n",
    "for date in dates_list:\n",
    "    temp_cs = cs_dict[date]\n",
    "    temp_cs = temp_cs.fillna(0)\n",
    "    \n",
    "    #risk free return\n",
    "    y = temp_cs[[\"Return\"]]\n",
    "    \n",
    "    # winsorize independent variables\n",
    "    x = temp_cs[[\"Mkt\",\"Mkt2\",\"BMG\",\"BMG2\",\"log_bm\",\"log_size\",\"mom\",\"logmom\",\"log_co2score\"]]\n",
    "    for col in list(x.columns):\n",
    "        x[col] = winsorize(x[col],limits=[0.01,0.01])\n",
    "    \n",
    "    #beta values\n",
    "    #x_BMG = x[[\"Mkt\",\"BMG\",\"log_bm\",\"log_size\",\"logmom\"]]\n",
    "    #x_BMG2 = x[[\"Mkt2\",\"BMG2\",\"log_bm\",\"log_size\",\"logmom\"]]\n",
    "    #x_co2 = x[[\"Mkt\",\"log_co2score\",\"log_bm\",\"log_size\",\"logmom\"]]\n",
    "    x_co2 = x[[\"Mkt\",\"log_co2score\",\"log_size\",\"log_bm\",\"logmom\"]]\n",
    "    \n",
    "    #Regression\n",
    "    #lmBMG = pg.linear_regression(x_BMG,y[\"Return\"])\n",
    "    #lmBMG2 = pg.linear_regression(x_BMG2,y[\"Return\"])\n",
    "    lmco2 = pg.linear_regression(x_co2,y[\"Return\"])\n",
    "\n",
    "    # Save stats\n",
    "    #lambdas_BMG[date] = lmBMG\n",
    "    #lambdas_BMG2[date] = lmBMG2\n",
    "    lambdas_co2[date] = lmco2\n",
    "    \n",
    "    "
   ]
  },
  {
   "cell_type": "code",
   "execution_count": 41,
   "id": "7d4cd4d5",
   "metadata": {},
   "outputs": [],
   "source": [
    "# Save Data for use in other files\n",
    "f = open(data_path+'cross_section.pckl', 'wb')\n",
    "pickle.dump([cs_dict, lambdas_BMG, lambdas_BMG2, lambdas_co2], f)\n",
    "f.close()"
   ]
  },
  {
   "cell_type": "code",
   "execution_count": null,
   "id": "33cfd959",
   "metadata": {},
   "outputs": [],
   "source": []
  }
 ],
 "metadata": {
  "kernelspec": {
   "display_name": "Python 3",
   "language": "python",
   "name": "python3"
  },
  "language_info": {
   "codemirror_mode": {
    "name": "ipython",
    "version": 3
   },
   "file_extension": ".py",
   "mimetype": "text/x-python",
   "name": "python",
   "nbconvert_exporter": "python",
   "pygments_lexer": "ipython3",
   "version": "3.8.5"
  }
 },
 "nbformat": 4,
 "nbformat_minor": 5
}
